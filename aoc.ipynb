{
 "cells": [
  {
   "cell_type": "markdown",
   "metadata": {},
   "source": [
    "# Day 1, Part 1 & 2"
   ]
  },
  {
   "cell_type": "code",
   "execution_count": 18,
   "metadata": {},
   "outputs": [
    {
     "data": {
      "text/plain": [
       "955584"
      ]
     },
     "execution_count": 18,
     "metadata": {},
     "output_type": "execute_result"
    }
   ],
   "source": [
    "import numpy as np\n",
    "\n",
    "f = [int(i.strip()) for i in open('data/day01.txt').readlines()]\n",
    "answer = list(set(2020 - np.array(f)) & set(f))\n",
    "answer[0]*answer[1]"
   ]
  },
  {
   "cell_type": "code",
   "execution_count": 19,
   "metadata": {},
   "outputs": [
    {
     "data": {
      "text/plain": [
       "287503934"
      ]
     },
     "execution_count": 19,
     "metadata": {},
     "output_type": "execute_result"
    }
   ],
   "source": [
    "from itertools import combinations\n",
    "from functools import reduce\n",
    "from operator import mul\n",
    "\n",
    "for i in itertools.combinations(f,3):\n",
    "    if sum(i)==2020: \n",
    "        answer = i\n",
    "        \n",
    "reduce(mul, answer, 1)"
   ]
  },
  {
   "cell_type": "markdown",
   "metadata": {},
   "source": [
    "# Day 2, Part 1 & 2"
   ]
  },
  {
   "cell_type": "code",
   "execution_count": 23,
   "metadata": {},
   "outputs": [
    {
     "data": {
      "text/plain": [
       "483"
      ]
     },
     "execution_count": 23,
     "metadata": {},
     "output_type": "execute_result"
    }
   ],
   "source": [
    "pw = [i.strip() for i in open('data/day02.txt').readlines()]\n",
    "\n",
    "sum([1 for j in [i.split() for i in pw] if int(j[0].split('-')[0]) <= j[2].count(j[1][0]) <= int(j[0].split('-')[1])])"
   ]
  },
  {
   "cell_type": "code",
   "execution_count": 22,
   "metadata": {},
   "outputs": [
    {
     "data": {
      "text/plain": [
       "482"
      ]
     },
     "execution_count": 22,
     "metadata": {},
     "output_type": "execute_result"
    }
   ],
   "source": [
    "sum([1 for j in [i.split() for i in pw] if len(set([j[2][int(j[0].split('-')[0])-1]==j[1][0], j[2][int(j[0].split('-')[1])-1]==j[1][0]]))==2])"
   ]
  },
  {
   "cell_type": "markdown",
   "metadata": {},
   "source": [
    "# Day 3, Part 1 & 2"
   ]
  },
  {
   "cell_type": "code",
   "execution_count": 27,
   "metadata": {},
   "outputs": [
    {
     "data": {
      "text/plain": [
       "203"
      ]
     },
     "execution_count": 27,
     "metadata": {},
     "output_type": "execute_result"
    }
   ],
   "source": [
    "import numpy as np\n",
    "\n",
    "right, down = 3, 1\n",
    "map = [i.strip() for i in open('data/day03.txt').readlines()]\n",
    "\n",
    "how_many=[]\n",
    "for row in range(down, len(map), down):\n",
    "    snow = map[row]\n",
    "    location = (int(row/down))*right%len(snow)\n",
    "    how_many.append(snow[location])\n",
    "    \n",
    "sum([1 for i in how_many if i=='#'])"
   ]
  },
  {
   "cell_type": "code",
   "execution_count": 30,
   "metadata": {},
   "outputs": [
    {
     "data": {
      "text/plain": [
       "3316272960"
      ]
     },
     "execution_count": 30,
     "metadata": {},
     "output_type": "execute_result"
    }
   ],
   "source": [
    "from functools import reduce\n",
    "from operator import mul\n",
    "\n",
    "right=[1, 3, 5, 7, 1]\n",
    "down= [1, 1, 1, 1, 2]\n",
    "\n",
    "answer = [sum([1 for row in range(slopes[1], len(map), slopes[1]) if map[row][(int(row/slopes[1]))*slopes[0]%len(map[row])]=='#']) for slopes in zip(right, down)]\n",
    "reduce(mul, answer, 1)"
   ]
  },
  {
   "cell_type": "markdown",
   "metadata": {},
   "source": [
    "# Day 4, Part 1 & 2"
   ]
  },
  {
   "cell_type": "code",
   "execution_count": 31,
   "metadata": {},
   "outputs": [
    {
     "data": {
      "text/plain": [
       "237"
      ]
     },
     "execution_count": 31,
     "metadata": {},
     "output_type": "execute_result"
    }
   ],
   "source": [
    "valid = {'byr', 'iyr', 'eyr', 'hgt', 'hcl', 'ecl', 'pid'}\n",
    "other = {'cid'}\n",
    "\n",
    "data = [i.strip().split() for i in open('data/day04.txt', 'r').readlines()]\n",
    "\n",
    "\n",
    "count = 0\n",
    "valid_count = valid.copy()\n",
    "for i in data:\n",
    "    if len(i) != 0:\n",
    "        blah = {j[:3] for j in i}\n",
    "        valid_count -= blah\n",
    "        if len(valid_count)==0:\n",
    "            count +=1\n",
    "            valid_count=valid.copy()\n",
    "    else: \n",
    "        valid_count=valid.copy()\n",
    "\n",
    "count"
   ]
  },
  {
   "cell_type": "code",
   "execution_count": 34,
   "metadata": {},
   "outputs": [
    {
     "data": {
      "text/plain": [
       "172"
      ]
     },
     "execution_count": 34,
     "metadata": {},
     "output_type": "execute_result"
    }
   ],
   "source": [
    "import re\n",
    "valid = {'byr', 'iyr', 'eyr', 'hgt', 'hcl', 'ecl', 'pid'}\n",
    "other = {'cid'}\n",
    "\n",
    "count = 0\n",
    "valid_count = valid.copy()\n",
    "for i in data:\n",
    "    if len(i) != 0:\n",
    "        for j in i:\n",
    "            item = j.split(':')\n",
    "            if item[0]=='byr':\n",
    "                if 1920 <= int(item[1]) <=2002:\n",
    "                    valid_count -= set([item[0]])\n",
    "                    if len(valid_count)==0: \n",
    "                        count+=1\n",
    "                        valid_count = valid.copy()\n",
    "                else:\n",
    "                    valid_count=valid.copy()\n",
    "            elif item[0]=='hgt':\n",
    "                if item[1][-2:]=='cm':\n",
    "                    if 150 <= int(item[1][:-2]) <=193:\n",
    "                        valid_count -= set([item[0]])\n",
    "                        if len(valid_count)==0: \n",
    "                            count+=1\n",
    "                            valid_count=valid.copy()\n",
    "                    else:\n",
    "                        valid_count = valid.copy()\n",
    "                elif item[1][-2:]=='in': \n",
    "                    if 59 <= int(item[1][:-2]) <= 76:\n",
    "                        valid_count -= set([item[0]])\n",
    "                        if len(valid_count)==0: \n",
    "                            count+=1\n",
    "                            valid_count=valid.copy()\n",
    "                    else:\n",
    "                        valid_count=valid.copy()\n",
    "                else:\n",
    "\n",
    "                    valid_count = valid.copy()\n",
    "            elif item[0]=='eyr':\n",
    "                if 2020 <= int(item[1]) <=2030:\n",
    "                    valid_count -= set([item[0]])\n",
    "                    if len(valid_count)==0: \n",
    "                        count+=1\n",
    "                        valid_count=valid.copy()\n",
    "                else:\n",
    "                    valid_count=valid.copy()\n",
    "            elif item[0]=='iyr':\n",
    "                if 2010 <= int(item[1]) <=2020:\n",
    "                    valid_count -= set([item[0]])\n",
    "                    if len(valid_count)==0: \n",
    "                        count+=1\n",
    "                        valid_count = valid.copy()\n",
    "                else:\n",
    "                    valid_count=valid.copy()\n",
    "            elif item[0]=='hcl':\n",
    "                if len(item[1])==7:\n",
    "                    if re.fullmatch('\\w+',item[1][1:]):\n",
    "                        valid_count -= set([item[0]])\n",
    "                        if len(valid_count)==0: \n",
    "                            count+=1\n",
    "                            valid_count = valid.copy()\n",
    "                    else:\n",
    "                        valid_count = valid.copy()\n",
    "                else:\n",
    "                    valid_count=valid.copy()\n",
    "            elif item[0]=='ecl':\n",
    "                if item[1] in {'amb','blu','brn','gry','grn','hzl','oth'}:\n",
    "                    valid_count -= set([item[0]])\n",
    "                    if len(valid_count)==0: \n",
    "                        count+=1\n",
    "                        valid_count=valid.copy()\n",
    "                else:\n",
    "                    valid_count = valid.copy()\n",
    "            elif item[0]=='pid':\n",
    "                if len(item[1])==9:\n",
    "                    if re.fullmatch('\\d+',item[1]):\n",
    "                        valid_count -= set([item[0]])\n",
    "                        if len(valid_count)==0: \n",
    "                            count+=1\n",
    "                            valid_count = valid.copy()\n",
    "                    else:\n",
    "                        valid_count= valid.copy()\n",
    "                else:\n",
    "                    valid_count = valid.copy()\n",
    "            elif item[0]=='cid':\n",
    "                pass\n",
    "            else:\n",
    "                print(j)\n",
    "    else:\n",
    "        valid_count = valid.copy()\n",
    "count"
   ]
  },
  {
   "cell_type": "markdown",
   "metadata": {},
   "source": [
    "# Day 5, Part 1 & 2 "
   ]
  },
  {
   "cell_type": "code",
   "execution_count": 37,
   "metadata": {},
   "outputs": [
    {
     "data": {
      "text/plain": [
       "908"
      ]
     },
     "execution_count": 37,
     "metadata": {},
     "output_type": "execute_result"
    }
   ],
   "source": [
    "def get_row(seat_string, low, high):\n",
    "    start, end = 0, 2**len(seat_string)\n",
    "    for i,val in enumerate(seat_string[:-1]):\n",
    "        if val==low: end -= 2**(len(seat_string)-1-i)\n",
    "        elif val==high: start += 2**(len(seat_string)-1-i)\n",
    "    if seat_string[-1]==low: return start\n",
    "    else: return end-1\n",
    "\n",
    "seats = [get_row(i.strip()[:7], 'F', 'B') * 8 + get_row(i.strip()[-3:], 'L', 'R') for i in open('data/day05.txt').readlines()]\n",
    "\n",
    "max(seats)"
   ]
  },
  {
   "cell_type": "code",
   "execution_count": 48,
   "metadata": {},
   "outputs": [
    {
     "data": {
      "text/plain": [
       "619"
      ]
     },
     "execution_count": 48,
     "metadata": {},
     "output_type": "execute_result"
    }
   ],
   "source": [
    "seats = [int(i.strip().translate(str.maketrans('FBLR','0101')),2) for i in open('data/day05.txt').readlines()]\n",
    "\n",
    "list(set(range(min(seats), max(seats))) - set(seats))[0]"
   ]
  },
  {
   "cell_type": "code",
   "execution_count": null,
   "metadata": {},
   "outputs": [],
   "source": []
  }
 ],
 "metadata": {
  "kernelspec": {
   "display_name": "Python 3",
   "language": "python",
   "name": "python3"
  },
  "language_info": {
   "codemirror_mode": {
    "name": "ipython",
    "version": 3
   },
   "file_extension": ".py",
   "mimetype": "text/x-python",
   "name": "python",
   "nbconvert_exporter": "python",
   "pygments_lexer": "ipython3",
   "version": "3.8.5"
  }
 },
 "nbformat": 4,
 "nbformat_minor": 4
}
