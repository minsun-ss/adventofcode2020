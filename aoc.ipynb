{
 "cells": [
  {
   "cell_type": "markdown",
   "metadata": {},
   "source": [
    "# Day 1, Part 1 & 2"
   ]
  },
  {
   "cell_type": "code",
   "execution_count": 18,
   "metadata": {},
   "outputs": [
    {
     "data": {
      "text/plain": [
       "955584"
      ]
     },
     "execution_count": 18,
     "metadata": {},
     "output_type": "execute_result"
    }
   ],
   "source": [
    "import numpy as np\n",
    "\n",
    "f = [int(i.strip()) for i in open('data/day01.txt').readlines()]\n",
    "answer = list(set(2020 - np.array(f)) & set(f))\n",
    "answer[0]*answer[1]"
   ]
  },
  {
   "cell_type": "code",
   "execution_count": 19,
   "metadata": {},
   "outputs": [
    {
     "data": {
      "text/plain": [
       "287503934"
      ]
     },
     "execution_count": 19,
     "metadata": {},
     "output_type": "execute_result"
    }
   ],
   "source": [
    "from itertools import combinations\n",
    "from functools import reduce\n",
    "from operator import mul\n",
    "\n",
    "for i in itertools.combinations(f,3):\n",
    "    if sum(i)==2020: \n",
    "        answer = i\n",
    "        \n",
    "reduce(mul, answer, 1)"
   ]
  },
  {
   "cell_type": "markdown",
   "metadata": {},
   "source": [
    "# Day 2, Part 1 & 2"
   ]
  },
  {
   "cell_type": "code",
   "execution_count": 23,
   "metadata": {},
   "outputs": [
    {
     "data": {
      "text/plain": [
       "483"
      ]
     },
     "execution_count": 23,
     "metadata": {},
     "output_type": "execute_result"
    }
   ],
   "source": [
    "pw = [i.strip() for i in open('data/day02.txt').readlines()]\n",
    "\n",
    "sum([1 for j in [i.split() for i in pw] if int(j[0].split('-')[0]) <= j[2].count(j[1][0]) <= int(j[0].split('-')[1])])"
   ]
  },
  {
   "cell_type": "code",
   "execution_count": 22,
   "metadata": {},
   "outputs": [
    {
     "data": {
      "text/plain": [
       "482"
      ]
     },
     "execution_count": 22,
     "metadata": {},
     "output_type": "execute_result"
    }
   ],
   "source": [
    "sum([1 for j in [i.split() for i in pw] if len(set([j[2][int(j[0].split('-')[0])-1]==j[1][0], j[2][int(j[0].split('-')[1])-1]==j[1][0]]))==2])"
   ]
  },
  {
   "cell_type": "markdown",
   "metadata": {},
   "source": [
    "# Day 3, Part 1 & 2"
   ]
  },
  {
   "cell_type": "code",
   "execution_count": 27,
   "metadata": {},
   "outputs": [
    {
     "data": {
      "text/plain": [
       "203"
      ]
     },
     "execution_count": 27,
     "metadata": {},
     "output_type": "execute_result"
    }
   ],
   "source": [
    "import numpy as np\n",
    "\n",
    "right, down = 3, 1\n",
    "map = [i.strip() for i in open('data/day03.txt').readlines()]\n",
    "\n",
    "how_many=[]\n",
    "for row in range(down, len(map), down):\n",
    "    snow = map[row]\n",
    "    location = (int(row/down))*right%len(snow)\n",
    "    how_many.append(snow[location])\n",
    "    \n",
    "sum([1 for i in how_many if i=='#'])"
   ]
  },
  {
   "cell_type": "code",
   "execution_count": 30,
   "metadata": {},
   "outputs": [
    {
     "data": {
      "text/plain": [
       "3316272960"
      ]
     },
     "execution_count": 30,
     "metadata": {},
     "output_type": "execute_result"
    }
   ],
   "source": [
    "from functools import reduce\n",
    "from operator import mul\n",
    "\n",
    "right=[1, 3, 5, 7, 1]\n",
    "down= [1, 1, 1, 1, 2]\n",
    "\n",
    "answer = [sum([1 for row in range(slopes[1], len(map), slopes[1]) if map[row][(int(row/slopes[1]))*slopes[0]%len(map[row])]=='#']) for slopes in zip(right, down)]\n",
    "reduce(mul, answer, 1)"
   ]
  },
  {
   "cell_type": "markdown",
   "metadata": {},
   "source": [
    "# Day 4, Part 1 & 2"
   ]
  },
  {
   "cell_type": "code",
   "execution_count": 31,
   "metadata": {},
   "outputs": [
    {
     "data": {
      "text/plain": [
       "237"
      ]
     },
     "execution_count": 31,
     "metadata": {},
     "output_type": "execute_result"
    }
   ],
   "source": [
    "valid = {'byr', 'iyr', 'eyr', 'hgt', 'hcl', 'ecl', 'pid'}\n",
    "other = {'cid'}\n",
    "\n",
    "data = [i.strip().split() for i in open('data/day04.txt', 'r').readlines()]\n",
    "\n",
    "\n",
    "count = 0\n",
    "valid_count = valid.copy()\n",
    "for i in data:\n",
    "    if len(i) != 0:\n",
    "        blah = {j[:3] for j in i}\n",
    "        valid_count -= blah\n",
    "        if len(valid_count)==0:\n",
    "            count +=1\n",
    "            valid_count=valid.copy()\n",
    "    else: \n",
    "        valid_count=valid.copy()\n",
    "\n",
    "count"
   ]
  },
  {
   "cell_type": "code",
   "execution_count": 34,
   "metadata": {},
   "outputs": [
    {
     "data": {
      "text/plain": [
       "172"
      ]
     },
     "execution_count": 34,
     "metadata": {},
     "output_type": "execute_result"
    }
   ],
   "source": [
    "import re\n",
    "valid = {'byr', 'iyr', 'eyr', 'hgt', 'hcl', 'ecl', 'pid'}\n",
    "other = {'cid'}\n",
    "\n",
    "count = 0\n",
    "valid_count = valid.copy()\n",
    "for i in data:\n",
    "    if len(i) != 0:\n",
    "        for j in i:\n",
    "            item = j.split(':')\n",
    "            if item[0]=='byr':\n",
    "                if 1920 <= int(item[1]) <=2002:\n",
    "                    valid_count -= set([item[0]])\n",
    "                    if len(valid_count)==0: \n",
    "                        count+=1\n",
    "                        valid_count = valid.copy()\n",
    "                else:\n",
    "                    valid_count=valid.copy()\n",
    "            elif item[0]=='hgt':\n",
    "                if item[1][-2:]=='cm':\n",
    "                    if 150 <= int(item[1][:-2]) <=193:\n",
    "                        valid_count -= set([item[0]])\n",
    "                        if len(valid_count)==0: \n",
    "                            count+=1\n",
    "                            valid_count=valid.copy()\n",
    "                    else:\n",
    "                        valid_count = valid.copy()\n",
    "                elif item[1][-2:]=='in': \n",
    "                    if 59 <= int(item[1][:-2]) <= 76:\n",
    "                        valid_count -= set([item[0]])\n",
    "                        if len(valid_count)==0: \n",
    "                            count+=1\n",
    "                            valid_count=valid.copy()\n",
    "                    else:\n",
    "                        valid_count=valid.copy()\n",
    "                else:\n",
    "\n",
    "                    valid_count = valid.copy()\n",
    "            elif item[0]=='eyr':\n",
    "                if 2020 <= int(item[1]) <=2030:\n",
    "                    valid_count -= set([item[0]])\n",
    "                    if len(valid_count)==0: \n",
    "                        count+=1\n",
    "                        valid_count=valid.copy()\n",
    "                else:\n",
    "                    valid_count=valid.copy()\n",
    "            elif item[0]=='iyr':\n",
    "                if 2010 <= int(item[1]) <=2020:\n",
    "                    valid_count -= set([item[0]])\n",
    "                    if len(valid_count)==0: \n",
    "                        count+=1\n",
    "                        valid_count = valid.copy()\n",
    "                else:\n",
    "                    valid_count=valid.copy()\n",
    "            elif item[0]=='hcl':\n",
    "                if len(item[1])==7:\n",
    "                    if re.fullmatch('\\w+',item[1][1:]):\n",
    "                        valid_count -= set([item[0]])\n",
    "                        if len(valid_count)==0: \n",
    "                            count+=1\n",
    "                            valid_count = valid.copy()\n",
    "                    else:\n",
    "                        valid_count = valid.copy()\n",
    "                else:\n",
    "                    valid_count=valid.copy()\n",
    "            elif item[0]=='ecl':\n",
    "                if item[1] in {'amb','blu','brn','gry','grn','hzl','oth'}:\n",
    "                    valid_count -= set([item[0]])\n",
    "                    if len(valid_count)==0: \n",
    "                        count+=1\n",
    "                        valid_count=valid.copy()\n",
    "                else:\n",
    "                    valid_count = valid.copy()\n",
    "            elif item[0]=='pid':\n",
    "                if len(item[1])==9:\n",
    "                    if re.fullmatch('\\d+',item[1]):\n",
    "                        valid_count -= set([item[0]])\n",
    "                        if len(valid_count)==0: \n",
    "                            count+=1\n",
    "                            valid_count = valid.copy()\n",
    "                    else:\n",
    "                        valid_count= valid.copy()\n",
    "                else:\n",
    "                    valid_count = valid.copy()\n",
    "            elif item[0]=='cid':\n",
    "                pass\n",
    "            else:\n",
    "                print(j)\n",
    "    else:\n",
    "        valid_count = valid.copy()\n",
    "count"
   ]
  },
  {
   "cell_type": "markdown",
   "metadata": {},
   "source": [
    "# Day 5, Part 1 & 2 "
   ]
  },
  {
   "cell_type": "code",
   "execution_count": 37,
   "metadata": {},
   "outputs": [
    {
     "data": {
      "text/plain": [
       "908"
      ]
     },
     "execution_count": 37,
     "metadata": {},
     "output_type": "execute_result"
    }
   ],
   "source": [
    "def get_row(seat_string, low, high):\n",
    "    start, end = 0, 2**len(seat_string)\n",
    "    for i,val in enumerate(seat_string[:-1]):\n",
    "        if val==low: end -= 2**(len(seat_string)-1-i)\n",
    "        elif val==high: start += 2**(len(seat_string)-1-i)\n",
    "    if seat_string[-1]==low: return start\n",
    "    else: return end-1\n",
    "\n",
    "seats = [get_row(i.strip()[:7], 'F', 'B') * 8 + get_row(i.strip()[-3:], 'L', 'R') for i in open('data/day05.txt').readlines()]\n",
    "\n",
    "max(seats)"
   ]
  },
  {
   "cell_type": "code",
   "execution_count": 48,
   "metadata": {},
   "outputs": [
    {
     "data": {
      "text/plain": [
       "619"
      ]
     },
     "execution_count": 48,
     "metadata": {},
     "output_type": "execute_result"
    }
   ],
   "source": [
    "seats = [int(i.strip().translate(str.maketrans('FBLR','0101')),2) for i in open('data/day05.txt').readlines()]\n",
    "\n",
    "list(set(range(min(seats), max(seats))) - set(seats))[0]"
   ]
  },
  {
   "cell_type": "markdown",
   "metadata": {},
   "source": [
    "# Day 6, Part 1 & 2"
   ]
  },
  {
   "cell_type": "code",
   "execution_count": 2,
   "metadata": {},
   "outputs": [
    {
     "data": {
      "text/plain": [
       "6587"
      ]
     },
     "execution_count": 2,
     "metadata": {},
     "output_type": "execute_result"
    }
   ],
   "source": [
    "sum([len(set(i.replace('\\n', ''))) for i in open('data/day06.txt').read().split('\\n\\n')])"
   ]
  },
  {
   "cell_type": "code",
   "execution_count": 4,
   "metadata": {},
   "outputs": [
    {
     "data": {
      "text/plain": [
       "3235"
      ]
     },
     "execution_count": 4,
     "metadata": {},
     "output_type": "execute_result"
    }
   ],
   "source": [
    "part2 = [i.strip().split('\\n') for i in open('data/day06.txt').read().split('\\n\\n')]\n",
    "\n",
    "final_count= 0\n",
    "for i in part2:\n",
    "    q=set(i[0])\n",
    "    if len(i)>1:\n",
    "        for j in i[1:]:\n",
    "            q=q&set(j)\n",
    "    final_count+=len(q)\n",
    "    \n",
    "final_count"
   ]
  },
  {
   "cell_type": "markdown",
   "metadata": {},
   "source": [
    "# Day 7, Part 1 & 2"
   ]
  },
  {
   "cell_type": "code",
   "execution_count": 6,
   "metadata": {},
   "outputs": [
    {
     "data": {
      "text/plain": [
       "208"
      ]
     },
     "execution_count": 6,
     "metadata": {},
     "output_type": "execute_result"
    }
   ],
   "source": [
    "b = [i.strip().replace(' bags','').replace(' bag', '').split(' contain') for i in open('data/day07.txt').readlines()]\n",
    "full_list= set([j[0].strip() for j in b if 'shiny gold' in j[1]])\n",
    "cur_len = len(full_list)\n",
    "while True:\n",
    "    temp = full_list | set([i[0].strip() for i in b for j in full_list if j in i[1]])\n",
    "    if len(temp)>cur_len:\n",
    "        cur_len=len(temp)\n",
    "        full_list=temp\n",
    "    else:\n",
    "        break\n",
    "len(full_list)"
   ]
  },
  {
   "cell_type": "code",
   "execution_count": 7,
   "metadata": {},
   "outputs": [],
   "source": [
    "# lol i solved part 2 in excel first, will add a code implementation later"
   ]
  },
  {
   "cell_type": "markdown",
   "metadata": {},
   "source": [
    "# Day 8, Part 1 & 2"
   ]
  },
  {
   "cell_type": "code",
   "execution_count": 8,
   "metadata": {},
   "outputs": [
    {
     "data": {
      "text/plain": [
       "2025"
      ]
     },
     "execution_count": 8,
     "metadata": {},
     "output_type": "execute_result"
    }
   ],
   "source": [
    "line = [i.split() for i in open('data/day08.txt').read().split('\\n')][:-1]\n",
    "\n",
    "accumulater = 0\n",
    "ind=0\n",
    "set_list = []\n",
    "while True: \n",
    "    current_line = line[ind]\n",
    "    if current_line[0]=='nop':\n",
    "        ind+=1\n",
    "        if ind in set_list:\n",
    "            break\n",
    "        set_list.append(ind)\n",
    "    elif current_line[0]=='acc':\n",
    "        accumulater+= int(current_line[1])\n",
    "        ind+=1\n",
    "        if ind in set_list:\n",
    "            break\n",
    "        set_list.append(ind)\n",
    "    elif current_line[0]=='jmp':\n",
    "        ind+=int(current_line[1])\n",
    "        if ind in set_list:\n",
    "            break\n",
    "        set_list.append(ind)\n",
    "        \n",
    "accumulater"
   ]
  },
  {
   "cell_type": "code",
   "execution_count": 10,
   "metadata": {},
   "outputs": [
    {
     "name": "stdout",
     "output_type": "stream",
     "text": [
      "2001\n"
     ]
    }
   ],
   "source": [
    "line = [i.split() for i in open('data/day08.txt').read().split('\\n')][:-1]\n",
    "\n",
    "def get_this(line):\n",
    "    accumulater = 0\n",
    "    ind=0\n",
    "    set_list = []\n",
    "    while True: \n",
    "        if ind>=len(line):\n",
    "            return accumulater\n",
    "        current_line = line[ind]\n",
    "        if current_line[0]=='nop':\n",
    "            ind+=1\n",
    "            if ind in set_list:\n",
    "                return 0\n",
    "            set_list.append(ind)\n",
    "        elif current_line[0]=='acc':\n",
    "            accumulater+= int(current_line[1])\n",
    "            ind+=1\n",
    "            if ind in set_list:\n",
    "                return 0\n",
    "            set_list.append(ind)\n",
    "        elif current_line[0]=='jmp':\n",
    "            ind+=int(current_line[1])\n",
    "            if ind in set_list:\n",
    "                return 0\n",
    "            set_list.append(ind)\n",
    "            \n",
    "for i in range(len(line)):\n",
    "    line2 = [j.copy() for j in line] \n",
    "    if line2[i][0]=='jmp':\n",
    "        line2[i][0]='nop'\n",
    "        val = get_this(line2)\n",
    "        if val >0:\n",
    "            print(val) \n",
    "    elif line2[i][0]=='nop':\n",
    "        line2[i][0]='jmp'"
   ]
  },
  {
   "cell_type": "markdown",
   "metadata": {},
   "source": [
    "# Day 9, Part 1 & 2"
   ]
  },
  {
   "cell_type": "code",
   "execution_count": 11,
   "metadata": {},
   "outputs": [
    {
     "name": "stdout",
     "output_type": "stream",
     "text": [
      "105950735\n"
     ]
    }
   ],
   "source": [
    "num  = [int(i) for i in open('data/day09.txt').read().split('\\n')[:-1]]\n",
    "\n",
    "for i in range(25, len(num)):\n",
    "    group = sorted(num[i-25:i])\n",
    "    for j in group:\n",
    "        if j < num[i]:\n",
    "            if (num[i] - j) in group:\n",
    "                break\n",
    "        else:\n",
    "            print(num[i])\n",
    "            break"
   ]
  },
  {
   "cell_type": "code",
   "execution_count": 13,
   "metadata": {},
   "outputs": [
    {
     "data": {
      "text/plain": [
       "13826915"
      ]
     },
     "execution_count": 13,
     "metadata": {},
     "output_type": "execute_result"
    }
   ],
   "source": [
    "num  = [int(i) for i in open('data/day09.txt').read().split('\\n')[:-1]]\n",
    "\n",
    "find = 105950735\n",
    "begin_sum = None\n",
    "values = []\n",
    "\n",
    "for i, v in enumerate(num):\n",
    "    new_sum=0\n",
    "    for j, v2 in enumerate(num[i:]):\n",
    "        new_sum+=v2\n",
    "        if v==begin_sum:\n",
    "            print(v2, new_sum)\n",
    "        if (new_sum==find) and (v!=find):\n",
    "            begin_sum = v\n",
    "            break\n",
    "        elif new_sum>find:\n",
    "            break\n",
    "            \n",
    "for i, v in enumerate(num):\n",
    "    new_sum=0\n",
    "    for j, v2 in enumerate(num[i:]):\n",
    "        new_sum+=v2\n",
    "        if v==begin_sum:\n",
    "            values.append(v2)\n",
    "        if (new_sum==find) and (v!=find):\n",
    "            begin_sum = v\n",
    "            break\n",
    "        elif new_sum>find:\n",
    "            break\n",
    "\n",
    "min(values) + max(values)"
   ]
  },
  {
   "cell_type": "markdown",
   "metadata": {},
   "source": [
    "# Day 10, Part 1 & 2"
   ]
  },
  {
   "cell_type": "code",
   "execution_count": 14,
   "metadata": {},
   "outputs": [
    {
     "data": {
      "text/plain": [
       "2475"
      ]
     },
     "execution_count": 14,
     "metadata": {},
     "output_type": "execute_result"
    }
   ],
   "source": [
    "blah = sorted([int(i) for i in open('data/day10.txt').read().split('\\n')[:-1]])\n",
    "counts = [i[1]-i[0] for i in zip(blah, blah[1:]+[0])][:-1]\n",
    "(sum([1 for i in counts if i==3]) +1) * (sum([1 for i in counts if i==1]) + 1)"
   ]
  },
  {
   "cell_type": "code",
   "execution_count": 15,
   "metadata": {},
   "outputs": [
    {
     "data": {
      "text/plain": [
       "442136281481216"
      ]
     },
     "execution_count": 15,
     "metadata": {},
     "output_type": "execute_result"
    }
   ],
   "source": [
    "blah.extend([0, max(blah)+3])\n",
    "blah = sorted(blah)\n",
    "\n",
    "counts = [str(i[1]-i[0]) for i in zip(blah, blah[1:])]\n",
    "\n",
    "total = 1\n",
    "blah_counts = ''.join(counts).split('3')\n",
    "for i in blah_counts:\n",
    "    if len(i)==2:\n",
    "        total*=2\n",
    "    if len(i)==3:\n",
    "        total*=4\n",
    "    if len(i)==4:\n",
    "        total*=7\n",
    "        \n",
    "total"
   ]
  },
  {
   "cell_type": "code",
   "execution_count": null,
   "metadata": {},
   "outputs": [],
   "source": []
  }
 ],
 "metadata": {
  "kernelspec": {
   "display_name": "Python 3",
   "language": "python",
   "name": "python3"
  },
  "language_info": {
   "codemirror_mode": {
    "name": "ipython",
    "version": 3
   },
   "file_extension": ".py",
   "mimetype": "text/x-python",
   "name": "python",
   "nbconvert_exporter": "python",
   "pygments_lexer": "ipython3",
   "version": "3.8.5"
  }
 },
 "nbformat": 4,
 "nbformat_minor": 4
}
