{
 "cells": [
  {
   "cell_type": "markdown",
   "metadata": {},
   "source": [
    "# Day 1, Part 1 & 2"
   ]
  },
  {
   "cell_type": "code",
   "execution_count": 18,
   "metadata": {},
   "outputs": [
    {
     "data": {
      "text/plain": [
       "955584"
      ]
     },
     "execution_count": 18,
     "metadata": {},
     "output_type": "execute_result"
    }
   ],
   "source": [
    "import numpy as np\n",
    "\n",
    "f = [int(i.strip()) for i in open('data/day01.txt').readlines()]\n",
    "answer = list(set(2020 - np.array(f)) & set(f))\n",
    "answer[0]*answer[1]"
   ]
  },
  {
   "cell_type": "code",
   "execution_count": 19,
   "metadata": {},
   "outputs": [
    {
     "data": {
      "text/plain": [
       "287503934"
      ]
     },
     "execution_count": 19,
     "metadata": {},
     "output_type": "execute_result"
    }
   ],
   "source": [
    "from itertools import combinations\n",
    "from functools import reduce\n",
    "from operator import mul\n",
    "\n",
    "for i in combinations(f,3):\n",
    "    if sum(i)==2020: \n",
    "        answer = i\n",
    "        break\n",
    "        \n",
    "reduce(mul, answer, 1)"
   ]
  },
  {
   "cell_type": "markdown",
   "metadata": {},
   "source": [
    "# Day 2, Part 1 & 2"
   ]
  },
  {
   "cell_type": "code",
   "execution_count": 23,
   "metadata": {},
   "outputs": [
    {
     "data": {
      "text/plain": [
       "483"
      ]
     },
     "execution_count": 23,
     "metadata": {},
     "output_type": "execute_result"
    }
   ],
   "source": [
    "pw = [i.strip() for i in open('data/day02.txt').readlines()]\n",
    "\n",
    "sum([1 for j in [i.split() for i in pw] if int(j[0].split('-')[0]) <= j[2].count(j[1][0]) <= int(j[0].split('-')[1])])"
   ]
  },
  {
   "cell_type": "code",
   "execution_count": 22,
   "metadata": {},
   "outputs": [
    {
     "data": {
      "text/plain": [
       "482"
      ]
     },
     "execution_count": 22,
     "metadata": {},
     "output_type": "execute_result"
    }
   ],
   "source": [
    "sum([1 for j in [i.split() for i in pw] if len(set([j[2][int(j[0].split('-')[0])-1]==j[1][0], j[2][int(j[0].split('-')[1])-1]==j[1][0]]))==2])"
   ]
  },
  {
   "cell_type": "markdown",
   "metadata": {},
   "source": [
    "# Day 3, Part 1 & 2"
   ]
  },
  {
   "cell_type": "code",
   "execution_count": 27,
   "metadata": {},
   "outputs": [
    {
     "data": {
      "text/plain": [
       "203"
      ]
     },
     "execution_count": 27,
     "metadata": {},
     "output_type": "execute_result"
    }
   ],
   "source": [
    "import numpy as np\n",
    "\n",
    "right, down = 3, 1\n",
    "map = [i.strip() for i in open('data/day03.txt').readlines()]\n",
    "\n",
    "how_many=[]\n",
    "for row in range(down, len(map), down):\n",
    "    snow = map[row]\n",
    "    location = (int(row/down))*right%len(snow)\n",
    "    how_many.append(snow[location])\n",
    "    \n",
    "sum([1 for i in how_many if i=='#'])"
   ]
  },
  {
   "cell_type": "code",
   "execution_count": 30,
   "metadata": {},
   "outputs": [
    {
     "data": {
      "text/plain": [
       "3316272960"
      ]
     },
     "execution_count": 30,
     "metadata": {},
     "output_type": "execute_result"
    }
   ],
   "source": [
    "from functools import reduce\n",
    "from operator import mul\n",
    "\n",
    "right=[1, 3, 5, 7, 1]\n",
    "down= [1, 1, 1, 1, 2]\n",
    "\n",
    "answer = [sum([1 for row in range(slopes[1], len(map), slopes[1]) if map[row][(int(row/slopes[1]))*slopes[0]%len(map[row])]=='#']) for slopes in zip(right, down)]\n",
    "reduce(mul, answer, 1)"
   ]
  },
  {
   "cell_type": "markdown",
   "metadata": {},
   "source": [
    "# Day 4, Part 1 & 2"
   ]
  },
  {
   "cell_type": "code",
   "execution_count": 31,
   "metadata": {},
   "outputs": [
    {
     "data": {
      "text/plain": [
       "237"
      ]
     },
     "execution_count": 31,
     "metadata": {},
     "output_type": "execute_result"
    }
   ],
   "source": [
    "valid = {'byr', 'iyr', 'eyr', 'hgt', 'hcl', 'ecl', 'pid'}\n",
    "other = {'cid'}\n",
    "\n",
    "data = [i.strip().split() for i in open('data/day04.txt', 'r').readlines()]\n",
    "\n",
    "\n",
    "count = 0\n",
    "valid_count = valid.copy()\n",
    "for i in data:\n",
    "    if len(i) != 0:\n",
    "        blah = {j[:3] for j in i}\n",
    "        valid_count -= blah\n",
    "        if len(valid_count)==0:\n",
    "            count +=1\n",
    "            valid_count=valid.copy()\n",
    "    else: \n",
    "        valid_count=valid.copy()\n",
    "\n",
    "count"
   ]
  },
  {
   "cell_type": "code",
   "execution_count": 34,
   "metadata": {},
   "outputs": [
    {
     "data": {
      "text/plain": [
       "172"
      ]
     },
     "execution_count": 34,
     "metadata": {},
     "output_type": "execute_result"
    }
   ],
   "source": [
    "import re\n",
    "valid = {'byr', 'iyr', 'eyr', 'hgt', 'hcl', 'ecl', 'pid'}\n",
    "other = {'cid'}\n",
    "\n",
    "count = 0\n",
    "valid_count = valid.copy()\n",
    "for i in data:\n",
    "    if len(i) != 0:\n",
    "        for j in i:\n",
    "            item = j.split(':')\n",
    "            if item[0]=='byr':\n",
    "                if 1920 <= int(item[1]) <=2002:\n",
    "                    valid_count -= set([item[0]])\n",
    "                    if len(valid_count)==0: \n",
    "                        count+=1\n",
    "                        valid_count = valid.copy()\n",
    "                else:\n",
    "                    valid_count=valid.copy()\n",
    "            elif item[0]=='hgt':\n",
    "                if item[1][-2:]=='cm':\n",
    "                    if 150 <= int(item[1][:-2]) <=193:\n",
    "                        valid_count -= set([item[0]])\n",
    "                        if len(valid_count)==0: \n",
    "                            count+=1\n",
    "                            valid_count=valid.copy()\n",
    "                    else:\n",
    "                        valid_count = valid.copy()\n",
    "                elif item[1][-2:]=='in': \n",
    "                    if 59 <= int(item[1][:-2]) <= 76:\n",
    "                        valid_count -= set([item[0]])\n",
    "                        if len(valid_count)==0: \n",
    "                            count+=1\n",
    "                            valid_count=valid.copy()\n",
    "                    else:\n",
    "                        valid_count=valid.copy()\n",
    "                else:\n",
    "\n",
    "                    valid_count = valid.copy()\n",
    "            elif item[0]=='eyr':\n",
    "                if 2020 <= int(item[1]) <=2030:\n",
    "                    valid_count -= set([item[0]])\n",
    "                    if len(valid_count)==0: \n",
    "                        count+=1\n",
    "                        valid_count=valid.copy()\n",
    "                else:\n",
    "                    valid_count=valid.copy()\n",
    "            elif item[0]=='iyr':\n",
    "                if 2010 <= int(item[1]) <=2020:\n",
    "                    valid_count -= set([item[0]])\n",
    "                    if len(valid_count)==0: \n",
    "                        count+=1\n",
    "                        valid_count = valid.copy()\n",
    "                else:\n",
    "                    valid_count=valid.copy()\n",
    "            elif item[0]=='hcl':\n",
    "                if len(item[1])==7:\n",
    "                    if re.fullmatch('\\w+',item[1][1:]):\n",
    "                        valid_count -= set([item[0]])\n",
    "                        if len(valid_count)==0: \n",
    "                            count+=1\n",
    "                            valid_count = valid.copy()\n",
    "                    else:\n",
    "                        valid_count = valid.copy()\n",
    "                else:\n",
    "                    valid_count=valid.copy()\n",
    "            elif item[0]=='ecl':\n",
    "                if item[1] in {'amb','blu','brn','gry','grn','hzl','oth'}:\n",
    "                    valid_count -= set([item[0]])\n",
    "                    if len(valid_count)==0: \n",
    "                        count+=1\n",
    "                        valid_count=valid.copy()\n",
    "                else:\n",
    "                    valid_count = valid.copy()\n",
    "            elif item[0]=='pid':\n",
    "                if len(item[1])==9:\n",
    "                    if re.fullmatch('\\d+',item[1]):\n",
    "                        valid_count -= set([item[0]])\n",
    "                        if len(valid_count)==0: \n",
    "                            count+=1\n",
    "                            valid_count = valid.copy()\n",
    "                    else:\n",
    "                        valid_count= valid.copy()\n",
    "                else:\n",
    "                    valid_count = valid.copy()\n",
    "            elif item[0]=='cid':\n",
    "                pass\n",
    "            else:\n",
    "                print(j)\n",
    "    else:\n",
    "        valid_count = valid.copy()\n",
    "count"
   ]
  },
  {
   "cell_type": "markdown",
   "metadata": {},
   "source": [
    "# Day 5, Part 1 & 2 "
   ]
  },
  {
   "cell_type": "code",
   "execution_count": 37,
   "metadata": {},
   "outputs": [
    {
     "data": {
      "text/plain": [
       "908"
      ]
     },
     "execution_count": 37,
     "metadata": {},
     "output_type": "execute_result"
    }
   ],
   "source": [
    "def get_row(seat_string, low, high):\n",
    "    start, end = 0, 2**len(seat_string)\n",
    "    for i,val in enumerate(seat_string[:-1]):\n",
    "        if val==low: end -= 2**(len(seat_string)-1-i)\n",
    "        elif val==high: start += 2**(len(seat_string)-1-i)\n",
    "    if seat_string[-1]==low: return start\n",
    "    else: return end-1\n",
    "\n",
    "seats = [get_row(i.strip()[:7], 'F', 'B') * 8 + get_row(i.strip()[-3:], 'L', 'R') for i in open('data/day05.txt').readlines()]\n",
    "\n",
    "max(seats)"
   ]
  },
  {
   "cell_type": "code",
   "execution_count": 48,
   "metadata": {},
   "outputs": [
    {
     "data": {
      "text/plain": [
       "619"
      ]
     },
     "execution_count": 48,
     "metadata": {},
     "output_type": "execute_result"
    }
   ],
   "source": [
    "seats = [int(i.strip().translate(str.maketrans('FBLR','0101')),2) for i in open('data/day05.txt').readlines()]\n",
    "\n",
    "list(set(range(min(seats), max(seats))) - set(seats))[0]"
   ]
  },
  {
   "cell_type": "markdown",
   "metadata": {},
   "source": [
    "# Day 6, Part 1 & 2"
   ]
  },
  {
   "cell_type": "code",
   "execution_count": 2,
   "metadata": {},
   "outputs": [
    {
     "data": {
      "text/plain": [
       "6587"
      ]
     },
     "execution_count": 2,
     "metadata": {},
     "output_type": "execute_result"
    }
   ],
   "source": [
    "sum([len(set(i.replace('\\n', ''))) for i in open('data/day06.txt').read().split('\\n\\n')])"
   ]
  },
  {
   "cell_type": "code",
   "execution_count": 4,
   "metadata": {},
   "outputs": [
    {
     "data": {
      "text/plain": [
       "3235"
      ]
     },
     "execution_count": 4,
     "metadata": {},
     "output_type": "execute_result"
    }
   ],
   "source": [
    "part2 = [i.strip().split('\\n') for i in open('data/day06.txt').read().split('\\n\\n')]\n",
    "\n",
    "final_count= 0\n",
    "for i in part2:\n",
    "    q=set(i[0])\n",
    "    if len(i)>1:\n",
    "        for j in i[1:]:\n",
    "            q=q&set(j)\n",
    "    final_count+=len(q)\n",
    "    \n",
    "final_count"
   ]
  },
  {
   "cell_type": "markdown",
   "metadata": {},
   "source": [
    "# Day 7, Part 1 & 2"
   ]
  },
  {
   "cell_type": "code",
   "execution_count": 6,
   "metadata": {},
   "outputs": [
    {
     "data": {
      "text/plain": [
       "208"
      ]
     },
     "execution_count": 6,
     "metadata": {},
     "output_type": "execute_result"
    }
   ],
   "source": [
    "b = [i.strip().replace(' bags','').replace(' bag', '').split(' contain') for i in open('data/day07.txt').readlines()]\n",
    "full_list= set([j[0].strip() for j in b if 'shiny gold' in j[1]])\n",
    "cur_len = len(full_list)\n",
    "while True:\n",
    "    temp = full_list | set([i[0].strip() for i in b for j in full_list if j in i[1]])\n",
    "    if len(temp)>cur_len:\n",
    "        cur_len=len(temp)\n",
    "        full_list=temp\n",
    "    else:\n",
    "        break\n",
    "len(full_list)"
   ]
  },
  {
   "cell_type": "code",
   "execution_count": 7,
   "metadata": {},
   "outputs": [],
   "source": [
    "# lol i solved part 2 in excel first, will add a code implementation later"
   ]
  },
  {
   "cell_type": "markdown",
   "metadata": {},
   "source": [
    "# Day 8, Part 1 & 2"
   ]
  },
  {
   "cell_type": "code",
   "execution_count": 8,
   "metadata": {},
   "outputs": [
    {
     "data": {
      "text/plain": [
       "2025"
      ]
     },
     "execution_count": 8,
     "metadata": {},
     "output_type": "execute_result"
    }
   ],
   "source": [
    "line = [i.split() for i in open('data/day08.txt').read().split('\\n')][:-1]\n",
    "\n",
    "accumulater = 0\n",
    "ind=0\n",
    "set_list = []\n",
    "while True: \n",
    "    current_line = line[ind]\n",
    "    if current_line[0]=='nop':\n",
    "        ind+=1\n",
    "        if ind in set_list:\n",
    "            break\n",
    "        set_list.append(ind)\n",
    "    elif current_line[0]=='acc':\n",
    "        accumulater+= int(current_line[1])\n",
    "        ind+=1\n",
    "        if ind in set_list:\n",
    "            break\n",
    "        set_list.append(ind)\n",
    "    elif current_line[0]=='jmp':\n",
    "        ind+=int(current_line[1])\n",
    "        if ind in set_list:\n",
    "            break\n",
    "        set_list.append(ind)\n",
    "        \n",
    "accumulater"
   ]
  },
  {
   "cell_type": "code",
   "execution_count": 10,
   "metadata": {},
   "outputs": [
    {
     "name": "stdout",
     "output_type": "stream",
     "text": [
      "2001\n"
     ]
    }
   ],
   "source": [
    "line = [i.split() for i in open('data/day08.txt').read().split('\\n')][:-1]\n",
    "\n",
    "def get_this(line):\n",
    "    accumulater = 0\n",
    "    ind=0\n",
    "    set_list = []\n",
    "    while True: \n",
    "        if ind>=len(line):\n",
    "            return accumulater\n",
    "        current_line = line[ind]\n",
    "        if current_line[0]=='nop':\n",
    "            ind+=1\n",
    "            if ind in set_list:\n",
    "                return 0\n",
    "            set_list.append(ind)\n",
    "        elif current_line[0]=='acc':\n",
    "            accumulater+= int(current_line[1])\n",
    "            ind+=1\n",
    "            if ind in set_list:\n",
    "                return 0\n",
    "            set_list.append(ind)\n",
    "        elif current_line[0]=='jmp':\n",
    "            ind+=int(current_line[1])\n",
    "            if ind in set_list:\n",
    "                return 0\n",
    "            set_list.append(ind)\n",
    "            \n",
    "for i in range(len(line)):\n",
    "    line2 = [j.copy() for j in line] \n",
    "    if line2[i][0]=='jmp':\n",
    "        line2[i][0]='nop'\n",
    "        val = get_this(line2)\n",
    "        if val >0:\n",
    "            print(val) \n",
    "    elif line2[i][0]=='nop':\n",
    "        line2[i][0]='jmp'"
   ]
  },
  {
   "cell_type": "markdown",
   "metadata": {},
   "source": [
    "# Day 9, Part 1 & 2"
   ]
  },
  {
   "cell_type": "code",
   "execution_count": 11,
   "metadata": {},
   "outputs": [
    {
     "name": "stdout",
     "output_type": "stream",
     "text": [
      "105950735\n"
     ]
    }
   ],
   "source": [
    "num  = [int(i) for i in open('data/day09.txt').read().split('\\n')[:-1]]\n",
    "\n",
    "for i in range(25, len(num)):\n",
    "    group = sorted(num[i-25:i])\n",
    "    for j in group:\n",
    "        if j < num[i]:\n",
    "            if (num[i] - j) in group:\n",
    "                break\n",
    "        else:\n",
    "            print(num[i])\n",
    "            break"
   ]
  },
  {
   "cell_type": "code",
   "execution_count": 13,
   "metadata": {},
   "outputs": [
    {
     "data": {
      "text/plain": [
       "13826915"
      ]
     },
     "execution_count": 13,
     "metadata": {},
     "output_type": "execute_result"
    }
   ],
   "source": [
    "num  = [int(i) for i in open('data/day09.txt').read().split('\\n')[:-1]]\n",
    "\n",
    "find = 105950735\n",
    "begin_sum = None\n",
    "values = []\n",
    "\n",
    "for i, v in enumerate(num):\n",
    "    new_sum=0\n",
    "    for j, v2 in enumerate(num[i:]):\n",
    "        new_sum+=v2\n",
    "        if v==begin_sum:\n",
    "            print(v2, new_sum)\n",
    "        if (new_sum==find) and (v!=find):\n",
    "            begin_sum = v\n",
    "            break\n",
    "        elif new_sum>find:\n",
    "            break\n",
    "            \n",
    "for i, v in enumerate(num):\n",
    "    new_sum=0\n",
    "    for j, v2 in enumerate(num[i:]):\n",
    "        new_sum+=v2\n",
    "        if v==begin_sum:\n",
    "            values.append(v2)\n",
    "        if (new_sum==find) and (v!=find):\n",
    "            begin_sum = v\n",
    "            break\n",
    "        elif new_sum>find:\n",
    "            break\n",
    "\n",
    "min(values) + max(values)"
   ]
  },
  {
   "cell_type": "markdown",
   "metadata": {},
   "source": [
    "# Day 10, Part 1 & 2"
   ]
  },
  {
   "cell_type": "code",
   "execution_count": 14,
   "metadata": {},
   "outputs": [
    {
     "data": {
      "text/plain": [
       "2475"
      ]
     },
     "execution_count": 14,
     "metadata": {},
     "output_type": "execute_result"
    }
   ],
   "source": [
    "blah = sorted([int(i) for i in open('data/day10.txt').read().split('\\n')[:-1]])\n",
    "counts = [i[1]-i[0] for i in zip(blah, blah[1:]+[0])][:-1]\n",
    "(sum([1 for i in counts if i==3]) +1) * (sum([1 for i in counts if i==1]) + 1)"
   ]
  },
  {
   "cell_type": "code",
   "execution_count": 15,
   "metadata": {},
   "outputs": [
    {
     "data": {
      "text/plain": [
       "442136281481216"
      ]
     },
     "execution_count": 15,
     "metadata": {},
     "output_type": "execute_result"
    }
   ],
   "source": [
    "blah.extend([0, max(blah)+3])\n",
    "blah = sorted(blah)\n",
    "\n",
    "counts = [str(i[1]-i[0]) for i in zip(blah, blah[1:])]\n",
    "\n",
    "total = 1\n",
    "blah_counts = ''.join(counts).split('3')\n",
    "for i in blah_counts:\n",
    "    if len(i)==2:\n",
    "        total*=2\n",
    "    if len(i)==3:\n",
    "        total*=4\n",
    "    if len(i)==4:\n",
    "        total*=7\n",
    "        \n",
    "total"
   ]
  },
  {
   "cell_type": "markdown",
   "metadata": {},
   "source": [
    "# Day 11, Part 1 & 2"
   ]
  },
  {
   "cell_type": "code",
   "execution_count": 3,
   "metadata": {},
   "outputs": [
    {
     "name": "stdout",
     "output_type": "stream",
     "text": [
      "2489\n"
     ]
    }
   ],
   "source": [
    "import numpy as np\n",
    "filename = 'data/day11.txt'\n",
    "length = len(open(filename).read().split('\\n')[0])\n",
    "height=int(len([i for i in open(filename).read()  if i != '\\n'])/length)\n",
    "blah = np.array([int(i.replace('L','0').replace('.','-1')) for i in open(filename).read() if i != '\\n']).reshape(height,length)\n",
    "new_answer = blah\n",
    "\n",
    "while True: \n",
    "    # display(blah)\n",
    "    new_matrix = []\n",
    "    for i in range(height):\n",
    "        for j in range(length):\n",
    "            if i==0: \n",
    "                k = 0\n",
    "            else: k=i-1\n",
    "            if j==0:\n",
    "                l = 0\n",
    "            else:l = j-1\n",
    "            if i== len(new_answer[0])-1:\n",
    "                m = i+1\n",
    "            else: \n",
    "                m = i+2\n",
    "            if j==len(new_answer[0])-1:\n",
    "                n = j+1\n",
    "            else:\n",
    "                n = j+2\n",
    "\n",
    "            matrix = new_answer[k:m,l:n]\n",
    "            if (new_answer[i,j] == 0) & (len(matrix[np.where(matrix==1)])==0):\n",
    "                new_matrix.append(1)\n",
    "            elif (new_answer[i,j] == 1) & (len(matrix[np.where(matrix==1)])>=5):\n",
    "                new_matrix.append(0)\n",
    "            else:\n",
    "                new_matrix.append(new_answer[i,j])\n",
    "\n",
    "    previous_matrix = new_answer\n",
    "    new_answer = np.array(new_matrix).reshape(height, length)\n",
    "\n",
    "    if np.array_equal(new_answer,previous_matrix):\n",
    "        print(len(new_answer[np.where(new_answer==1)]))\n",
    "        break"
   ]
  },
  {
   "cell_type": "code",
   "execution_count": 4,
   "metadata": {},
   "outputs": [
    {
     "name": "stdout",
     "output_type": "stream",
     "text": [
      "2180\n"
     ]
    }
   ],
   "source": [
    "filename = 'data/day11.txt'\n",
    "length = len(open(filename).read().split('\\n')[0])\n",
    "\n",
    "height=int(len([i for i in open(filename).read()  if i != '\\n'])/length)\n",
    "blah = np.array([int(i.replace('L','0').replace('.','-1')) for i in open(filename).read() if i != '\\n']).reshape(height,length)\n",
    "new_answer = blah\n",
    "\n",
    "while True: \n",
    "    new_matrix = []\n",
    "    for i in range(height):\n",
    "        for j in range(length):\n",
    "            matrix = []\n",
    "            a, b = i-1, j-1\n",
    "            while ((a)>=0) & ((b)>=0):\n",
    "                if new_answer[a,b] > -1:\n",
    "                    matrix.append(new_answer[a,b])\n",
    "                    break\n",
    "                else:\n",
    "                    a-=1\n",
    "                    b-=1\n",
    "\n",
    "            a,b = i-1, j\n",
    "            while (a>=0):               \n",
    "                if new_answer[a,b] > -1:\n",
    "                    matrix.append(new_answer[a,b])\n",
    "                    break\n",
    "                else:\n",
    "                    a-=1\n",
    "            a,b = i, j-1    \n",
    "            while (b>=0):\n",
    "                if new_answer[a,b] > -1:\n",
    "                    matrix.append(new_answer[a,b])\n",
    "                    break\n",
    "                else:\n",
    "                    b-=1\n",
    "\n",
    "            a,b = i+1,j-1\n",
    "            while (a<height) & ((b)>=0): \n",
    "                if new_answer[a,b] > -1:\n",
    "                    matrix.append(new_answer[a,b])\n",
    "                    break\n",
    "                else:\n",
    "                    a+=1\n",
    "                    b-=1\n",
    "\n",
    "            a,b = i-1, j+1\n",
    "            while((a)>=0) & ((b)<length):\n",
    "                if new_answer[a,b] > -1:\n",
    "                    matrix.append(new_answer[a,b])\n",
    "                    break\n",
    "                else:\n",
    "                    a-=1\n",
    "                    b+=1\n",
    "\n",
    "            a,b = i,j+1\n",
    "            while ((b)<length):\n",
    "                if new_answer[a,b] > -1:\n",
    "                    matrix.append(new_answer[a,b])\n",
    "                    break\n",
    "                else:\n",
    "                    b+=1\n",
    "\n",
    "            a,b = i+1,j\n",
    "            while ((a)<height):\n",
    "                if new_answer[a,b] > -1:\n",
    "                    matrix.append(new_answer[a,b])\n",
    "                    break\n",
    "                else:\n",
    "                    a+=1\n",
    "\n",
    "            a,b = i+1,j+1\n",
    "            while ((a)<height) & ((b)<length):  \n",
    "                if new_answer[a,b] > -1:\n",
    "                    matrix.append(new_answer[a,b])\n",
    "                    break\n",
    "                else:\n",
    "                    a+=1\n",
    "                    b+=1\n",
    "            matrix = np.array(matrix)\n",
    "            if (new_answer[i,j] == 0) & (len(matrix[np.where(matrix==1)])==0):\n",
    "                new_matrix.append(1)\n",
    "            elif (new_answer[i,j] == 1) & (len(matrix[np.where(matrix==1)])>=5):\n",
    "                new_matrix.append(0)\n",
    "            else:\n",
    "                new_matrix.append(new_answer[i,j])\n",
    "\n",
    "    previous_matrix = new_answer\n",
    "    new_answer = np.array(new_matrix).reshape(height, length)\n",
    "\n",
    "\n",
    "    if np.array_equal(new_answer,previous_matrix):\n",
    "        print(len(new_answer[np.where(new_answer==1)]))\n",
    "        break"
   ]
  },
  {
   "cell_type": "markdown",
   "metadata": {},
   "source": [
    "# Day 12, Part 1 & 2"
   ]
  },
  {
   "cell_type": "code",
   "execution_count": 6,
   "metadata": {},
   "outputs": [
    {
     "data": {
      "text/plain": [
       "1441"
      ]
     },
     "execution_count": 6,
     "metadata": {},
     "output_type": "execute_result"
    }
   ],
   "source": [
    "blah = open('data/day12.txt').read().split('\\n')[:-1]\n",
    "\n",
    "coord = [0,0]\n",
    "direction = 90\n",
    "for i in blah:\n",
    "    if i[0]=='F':\n",
    "        if direction == 90:\n",
    "            coord[0]+=int(i[1:])\n",
    "        elif direction == 270:\n",
    "            coord[0]-=int(i[1:])    \n",
    "        if direction == 0:\n",
    "            coord[1]+=int(i[1:])\n",
    "        elif direction == 180:\n",
    "            coord[1]-=int(i[1:])   \n",
    "    elif i[0]=='W':\n",
    "        coord[0]-=int(i[1:])\n",
    "    elif i[0]=='E':\n",
    "        coord[0]+=int(i[1:])   \n",
    "    elif i[0]=='N':\n",
    "        coord[1]+=int(i[1:])  \n",
    "    elif i[0]=='S':\n",
    "        coord[1]-=int(i[1:])  \n",
    "    if i[0]=='R':\n",
    "        direction = (direction + int(i[1:]))%360\n",
    "    if i[0]=='L':\n",
    "        direction = (direction - int(i[1:]))%360\n",
    "        \n",
    "abs(coord[0]) + abs(coord[1])"
   ]
  },
  {
   "cell_type": "code",
   "execution_count": 7,
   "metadata": {},
   "outputs": [
    {
     "data": {
      "text/plain": [
       "61616"
      ]
     },
     "execution_count": 7,
     "metadata": {},
     "output_type": "execute_result"
    }
   ],
   "source": [
    "blah = open('data/day12.txt').read().split('\\n')[:-1]\n",
    "\n",
    "coord = [0,0]\n",
    "waypoint = [10,1]\n",
    "direction = 90\n",
    "for i in blah:\n",
    "    if i[0]=='F':\n",
    "        coord[0]+=int(i[1:])*waypoint[0]\n",
    "        coord[1]+=int(i[1:])*waypoint[1]\n",
    "    elif i[0]=='W':\n",
    "        waypoint[0]-=int(i[1:])\n",
    "    elif i[0]=='E':\n",
    "        waypoint[0]+=int(i[1:])\n",
    "    elif i[0]=='N':\n",
    "        waypoint[1]+=int(i[1:])\n",
    "    elif i[0]=='S':\n",
    "        waypoint[1]-=int(i[1:])\n",
    "    if i[0]=='R':\n",
    "        if int(i[1:])%360==90:\n",
    "            waypoint = [waypoint[1], waypoint[0]*-1]\n",
    "        elif int(i[1:])%360==180:\n",
    "            waypoint = [waypoint[0]*-1, waypoint[1]*-1]\n",
    "        elif int(i[1:])%360==270:\n",
    "            waypoint = [waypoint[1]*-1, waypoint[0]]\n",
    "    if i[0]=='L':\n",
    "        if int(i[1:])%360==90:\n",
    "            waypoint = [waypoint[1]*-1, waypoint[0]]\n",
    "        elif int(i[1:])%360==180:\n",
    "            waypoint = [waypoint[0]*-1, waypoint[1]*-1]\n",
    "        elif int(i[1:])%360==270:\n",
    "            waypoint = [waypoint[1], waypoint[0]*-1]\n",
    "\n",
    "abs(coord[0]) + abs(coord[1])"
   ]
  },
  {
   "cell_type": "markdown",
   "metadata": {},
   "source": [
    "# Day 13, Part 1 & 2"
   ]
  },
  {
   "cell_type": "code",
   "execution_count": 8,
   "metadata": {},
   "outputs": [
    {
     "name": "stdout",
     "output_type": "stream",
     "text": [
      "174\n"
     ]
    }
   ],
   "source": [
    "from functools import reduce\n",
    "from operator import mul\n",
    "\n",
    "blah = open('data/day13.txt').read().split('\\n')\n",
    "\n",
    "time = int(blah[0])\n",
    "start = time\n",
    "buses = [int(i) for i in blah[1].split(',') if i !='x']\n",
    "while True:\n",
    "    bus_list = [start%i for i in buses]\n",
    "    if reduce(mul, bus_list,1)==0:\n",
    "        print((start-time) *[i[0] for i in zip(buses, bus_list) if i[1]==0][0])\n",
    "        break\n",
    "    start+=1"
   ]
  },
  {
   "cell_type": "code",
   "execution_count": 12,
   "metadata": {},
   "outputs": [
    {
     "name": "stdout",
     "output_type": "stream",
     "text": [
      "780601154795940\n"
     ]
    }
   ],
   "source": [
    "from functools import reduce\n",
    "from operator import mul\n",
    "blah = open('data/day13.txt').read().split('\\n')\n",
    "\n",
    "start = 100000000000000\n",
    "buses = [int(i) if i!='x' else 'x' for i in blah[1].split(',')]\n",
    "ranges = [i[1] if i[0]!='x' else 'x' for i in zip(buses, range(len(buses)))]\n",
    "\n",
    "while True:\n",
    "    groups = [(i[0]+start)%i[1] if i[0] != 'x' else 'x' for i in zip(ranges, buses)]\n",
    "    if sum([i for i in groups if i !='x'])==0:\n",
    "        print(start)\n",
    "        break\n",
    "    else:\n",
    "        if 0 in groups:\n",
    "            start +=reduce(mul, [i[1] for i in zip(groups,buses) if i[0]==0],1)\n",
    "        else:\n",
    "            start += max([i[1]-i[0] for i in zip(groups, buses) if i[0]!='x'])"
   ]
  },
  {
   "cell_type": "markdown",
   "metadata": {},
   "source": [
    "# Day 14, Part 1 & 2"
   ]
  },
  {
   "cell_type": "code",
   "execution_count": 15,
   "metadata": {},
   "outputs": [
    {
     "name": "stdout",
     "output_type": "stream",
     "text": [
      "12512013221615\n"
     ]
    }
   ],
   "source": [
    "masks = open('data/day14.txt').read().split('\\n')[:-1]\n",
    "mem = {}\n",
    "for i in masks:\n",
    "    if 'mask' in i:\n",
    "        mask = i.split(' = ')[1]\n",
    "    else:\n",
    "        bits = i.split(' = ')\n",
    "        blah = bin(int(bits[1]))[2:]\n",
    "        blah = ''.join(['0']*(36-len(blah))) + blah\n",
    "        number = int(''.join([i[0] if i[0] != 'X' else i[1] for i in zip(mask,blah)]),2)\n",
    "        mem[bits[0]] = number\n",
    "        \n",
    "print(sum(mem.values()))"
   ]
  },
  {
   "cell_type": "code",
   "execution_count": 17,
   "metadata": {},
   "outputs": [
    {
     "data": {
      "text/plain": [
       "3905642473893"
      ]
     },
     "execution_count": 17,
     "metadata": {},
     "output_type": "execute_result"
    }
   ],
   "source": [
    "masks = open('data/day14.txt').read().split('\\n')[:-1]\n",
    "mem = {}\n",
    "for i in masks:\n",
    "    if 'mask' in i:\n",
    "        mask = i.split(' = ')[1]\n",
    "        x_length = sum([1 for i in mask if i=='X'])\n",
    "        x_count = 2**x_length\n",
    "    else:\n",
    "        bits = i.split(' = ')\n",
    "        blah = bin(int(bits[0][4:-1]))[2:]\n",
    "        blah = ''.join(['0']*(36-len(blah))) + blah\n",
    "        for i in range(x_count):\n",
    "            counter = str(bin(i)[2:])\n",
    "            subs = ''.join((['0']*(x_length-len(counter))) + [counter])\n",
    "            new_mask = mask.replace('0','-')\n",
    "            for i in subs:\n",
    "                new_mask = new_mask.replace('X', i, 1)\n",
    "            mask_location = int(''.join([i[0] if i[0] != '-' else i[1] for i in zip(new_mask,blah)]),2)\n",
    "            mem[mask_location] = int(bits[1])\n",
    "                \n",
    "sum(mem.values())"
   ]
  },
  {
   "cell_type": "markdown",
   "metadata": {},
   "source": [
    "# Day 15, Part 1 & 2"
   ]
  },
  {
   "cell_type": "code",
   "execution_count": 19,
   "metadata": {},
   "outputs": [
    {
     "name": "stdout",
     "output_type": "stream",
     "text": [
      "870\n"
     ]
    }
   ],
   "source": [
    "game_list = [11,0,1,10,5,19]\n",
    "\n",
    "locations = {}\n",
    "for i in game_list:\n",
    "    locations[i] = [game_list.index(i), game_list.index(i)]\n",
    "last_num = game_list[-1]\n",
    "last_count = len(game_list)\n",
    "\n",
    "while True: \n",
    "    if last_num in locations.keys():\n",
    "        last_num = locations[last_num][1] - locations[last_num][0]\n",
    "        if last_num in locations.keys():\n",
    "            locations[last_num][0] = locations[last_num][1]\n",
    "            locations[last_num][1] = last_count\n",
    "        else:\n",
    "            locations[last_num] = [last_count, last_count]\n",
    "    else:\n",
    "        locations[last_num] = [last_count, last_count]\n",
    "    last_count+=1\n",
    "\n",
    "    if last_count==2020:\n",
    "        print(last_num)\n",
    "        break"
   ]
  },
  {
   "cell_type": "code",
   "execution_count": 20,
   "metadata": {},
   "outputs": [
    {
     "name": "stdout",
     "output_type": "stream",
     "text": [
      "9136\n"
     ]
    }
   ],
   "source": [
    "game_list = [11,0,1,10,5,19]\n",
    "\n",
    "locations = {}\n",
    "for i in game_list:\n",
    "    locations[i] = [game_list.index(i), game_list.index(i)]\n",
    "last_num = game_list[-1]\n",
    "last_count = len(game_list)\n",
    "\n",
    "while True: \n",
    "    if last_num in locations.keys():\n",
    "        last_num = locations[last_num][1] - locations[last_num][0]\n",
    "        if last_num in locations.keys():\n",
    "            locations[last_num][0] = locations[last_num][1]\n",
    "            locations[last_num][1] = last_count\n",
    "        else:\n",
    "            locations[last_num] = [last_count, last_count]\n",
    "    else:\n",
    "        locations[last_num] = [last_count, last_count]\n",
    "    last_count+=1\n",
    "\n",
    "    if last_count==30000000:\n",
    "        print(last_num)\n",
    "        break"
   ]
  },
  {
   "cell_type": "markdown",
   "metadata": {},
   "source": [
    "# Day 16, Part 1 & 2"
   ]
  },
  {
   "cell_type": "code",
   "execution_count": 23,
   "metadata": {},
   "outputs": [
    {
     "data": {
      "text/plain": [
       "23122"
      ]
     },
     "execution_count": 23,
     "metadata": {},
     "output_type": "execute_result"
    }
   ],
   "source": [
    "requirements, my_ticket, other_tickets = [i.split('\\n') for i in open('data/day16.txt').read().split('\\n\\n')]\n",
    "req = [i.split(': ')[1].split(' or ') for i in requirements]\n",
    "req =  [(i[0].split('-'), i[1].split('-')) for i in req]\n",
    "\n",
    "total = 0\n",
    "for i in other_tickets[1:-1]:\n",
    "    for j in i.split(','):\n",
    "        for k in req:\n",
    "            if (int(k[0][0]) <= int(j) <= int(k[0][1])) or (int(k[1][0]) <= int(j) <= int(k[1][1])):\n",
    "                j = 0\n",
    "                break\n",
    "        total+= int(j)\n",
    "    \n",
    "total"
   ]
  },
  {
   "cell_type": "code",
   "execution_count": 24,
   "metadata": {},
   "outputs": [
    {
     "data": {
      "text/plain": [
       "362974212989"
      ]
     },
     "execution_count": 24,
     "metadata": {},
     "output_type": "execute_result"
    }
   ],
   "source": [
    "requirements, my_ticket, other_tickets = [i.split('\\n') for i in open('data/day16.txt').read().split('\\n\\n')]\n",
    "req = [i.split(': ')[1].split(' or ') for i in requirements]\n",
    "req =  [(i[0].split('-'), i[1].split('-')) for i in req]\n",
    "\n",
    "invalid = []\n",
    "for i in other_tickets[1:-1]:\n",
    "    for j in i.split(','):\n",
    "        for k in req:\n",
    "            if (int(k[0][0]) <= int(j) <= int(k[0][1])) or (int(k[1][0]) <= int(j) <= int(k[1][1])):\n",
    "                j = 0\n",
    "                break\n",
    "        if j != 0:\n",
    "            invalid.append(int(j))\n",
    "\n",
    "invalid = [str(i) for i in invalid]\n",
    "tickets = [i.split(',') for i in other_tickets[1:-1]]\n",
    "tick2 = []\n",
    "for i in tickets:\n",
    "    if len((set(invalid) & set(i)))>0:\n",
    "        pass\n",
    "    else:\n",
    "        tick2.append(i)\n",
    " \n",
    "tick2.append(my_ticket[1].split(','))\n",
    "            \n",
    "qualifiers = []\n",
    "for k in zip(req, [i.split(':')[0] for i in requirements]):\n",
    "    for m in range(len(tick2[0])):\n",
    "        count = 0 \n",
    "        for j in tick2:\n",
    "            if (int(k[0][0][0]) <= int(j[m]) <= int(k[0][0][1])) or (int(k[0][1][0]) <= int(j[m]) <= int(k[0][1][1])): \n",
    "                count+=1\n",
    "            else:\n",
    "                pass\n",
    "        if count == len(tick2):\n",
    "            qualifiers.append((k[1],m))\n",
    "\n",
    "import pandas as pd\n",
    "df = pd.DataFrame(qualifiers)\n",
    "df.columns = ['thing', 'counter']\n",
    "df['count'] = 1\n",
    "df.set_index(['thing', 'counter'], inplace=True)\n",
    "df = pd.DataFrame(df.unstack(level=-1))\n",
    "df['sum'] = df.sum(axis=1)\n",
    "df\n",
    "\n",
    "# seat = 11\n",
    "# zone = 9\n",
    "# route = 17\n",
    "# train = 7\n",
    "# wagon = 12\n",
    "# departure track = 4\n",
    "# departure platform = 2\n",
    "# departure station = 19\n",
    "# departure time = 6\n",
    "# departure date = 14\n",
    "# departure location = 1\n",
    "\n",
    "int(my_ticket[1].split(',')[4])* int(my_ticket[1].split(',')[2])*int(my_ticket[1].split(',')[19])*int(my_ticket[1].split(',')[6])*int(my_ticket[1].split(',')[14])*int(my_ticket[1].split(',')[1])\n"
   ]
  },
  {
   "cell_type": "markdown",
   "metadata": {},
   "source": [
    "# Day 17, Part 1 & 2"
   ]
  },
  {
   "cell_type": "code",
   "execution_count": 27,
   "metadata": {},
   "outputs": [
    {
     "data": {
      "text/plain": [
       "286.0"
      ]
     },
     "execution_count": 27,
     "metadata": {},
     "output_type": "execute_result"
    }
   ],
   "source": [
    "import numpy as np\n",
    "import itertools\n",
    "\n",
    "spaces = {}\n",
    "\n",
    "file =  np.array([int(i) for i in open('data/day17.txt').read().replace('.', '0').replace('#', '1').replace('\\n', '')])\n",
    "original_shape = int(file.shape[0]**.5)\n",
    "current_max = original_shape+12\n",
    "\n",
    "for i in range(-6, 7):\n",
    "    if i == 0:\n",
    "        spaces[i] = file.reshape(original_shape, original_shape)\n",
    "        spaces[i] = np.vstack((np.zeros(original_shape),\n",
    "                               np.zeros(original_shape),\n",
    "                               np.zeros(original_shape),\n",
    "                               np.zeros(original_shape),\n",
    "                               np.zeros(original_shape),\n",
    "                               np.zeros(original_shape),\n",
    "                               spaces[i],\n",
    "                               np.zeros(original_shape),\n",
    "                               np.zeros(original_shape),\n",
    "                               np.zeros(original_shape),\n",
    "                               np.zeros(original_shape),\n",
    "                               np.zeros(original_shape),\n",
    "                               np.zeros(original_shape)))\n",
    "        spaces[i] = np.hstack((np.zeros(current_max).reshape(-1,1),\n",
    "                               np.zeros(current_max).reshape(-1,1),\n",
    "                               np.zeros(current_max).reshape(-1,1),\n",
    "                               np.zeros(current_max).reshape(-1,1),\n",
    "                               np.zeros(current_max).reshape(-1,1),\n",
    "                               np.zeros(current_max).reshape(-1,1),\n",
    "                               spaces[i],\n",
    "                               np.zeros(current_max).reshape(-1,1),\n",
    "                               np.zeros(current_max).reshape(-1,1),\n",
    "                               np.zeros(current_max).reshape(-1,1),\n",
    "                               np.zeros(current_max).reshape(-1,1),\n",
    "                               np.zeros(current_max).reshape(-1,1),\n",
    "                               np.zeros(current_max).reshape(-1,1)))\n",
    "    else:\n",
    "        spaces[i] = np.zeros((current_max)**2).reshape(current_max,current_max)\n",
    "\n",
    "def find_neighbor(z,y,x):\n",
    "    try:\n",
    "        if (x<0)|(y<0)|(x>=current_max)|(y>=current_max):\n",
    "            return 0\n",
    "        else:\n",
    "            return spaces[z][y][x]\n",
    "    except:\n",
    "        return 0        \n",
    "    \n",
    "for i in range(6):\n",
    "    temp_dict = {}\n",
    "    for z in spaces.keys():\n",
    "        new_item = np.zeros((current_max)**2).reshape(current_max,current_max)\n",
    "        for x,v in enumerate(spaces[z]):\n",
    "            for y,v in enumerate(v):\n",
    "                neighbors = list(itertools.product(range(-1,2), repeat=3))\n",
    "                neighbors = sum([int(find_neighbor(i[0]+z,i[1]+y,i[2]+x)) for i in neighbors if ((i[0],i[1],i[2]) != (0,0,0))])\n",
    "                if spaces[z][y][x] == 1 and ((neighbors==2) or (neighbors==3)):\n",
    "                    new_item[y][x] = 1\n",
    "                elif spaces[z][y][x] == 0 and ((neighbors==3)):\n",
    "                    new_item[y][x] = 1\n",
    "                else:\n",
    "                    new_item[y][x] = 0\n",
    "        temp_dict[z] = new_item\n",
    "    spaces = temp_dict\n",
    "    \n",
    "total = 0\n",
    "for i in spaces.keys():\n",
    "    total += spaces[i].sum()\n",
    "total"
   ]
  },
  {
   "cell_type": "code",
   "execution_count": 31,
   "metadata": {},
   "outputs": [
    {
     "data": {
      "text/plain": [
       "960.0"
      ]
     },
     "execution_count": 31,
     "metadata": {},
     "output_type": "execute_result"
    }
   ],
   "source": [
    "import numpy as np\n",
    "import itertools\n",
    "\n",
    "spaces = {}\n",
    "\n",
    "file =  np.array([int(i) for i in open('data/day17.txt').read().replace('.', '0').replace('#', '1').replace('\\n', '')])\n",
    "original_shape = int(file.shape[0]**.5)\n",
    "current_max = original_shape+12\n",
    "\n",
    "for i in range(-6, 7):\n",
    "    spaces[i] = {}\n",
    "    for j in range(-6,7):\n",
    "        if (i == 0) & (j==0):\n",
    "            spaces[i][j] = file.reshape(original_shape, original_shape)\n",
    "            spaces[i][j] = np.vstack((np.zeros(original_shape),\n",
    "                                   np.zeros(original_shape),\n",
    "                                   np.zeros(original_shape),\n",
    "                                   np.zeros(original_shape),\n",
    "                                   np.zeros(original_shape),\n",
    "                                   np.zeros(original_shape),\n",
    "                                   spaces[i][j],\n",
    "                                   np.zeros(original_shape),\n",
    "                                   np.zeros(original_shape),\n",
    "                                   np.zeros(original_shape),\n",
    "                                   np.zeros(original_shape),\n",
    "                                   np.zeros(original_shape),\n",
    "                                   np.zeros(original_shape)))\n",
    "            spaces[i][j] = np.hstack((np.zeros(current_max).reshape(-1,1),\n",
    "                                   np.zeros(current_max).reshape(-1,1),\n",
    "                                   np.zeros(current_max).reshape(-1,1),\n",
    "                                   np.zeros(current_max).reshape(-1,1),\n",
    "                                   np.zeros(current_max).reshape(-1,1),\n",
    "                                   np.zeros(current_max).reshape(-1,1),\n",
    "                                   spaces[i][j],\n",
    "                                   np.zeros(current_max).reshape(-1,1),\n",
    "                                   np.zeros(current_max).reshape(-1,1),\n",
    "                                   np.zeros(current_max).reshape(-1,1),\n",
    "                                   np.zeros(current_max).reshape(-1,1),\n",
    "                                   np.zeros(current_max).reshape(-1,1),\n",
    "                                   np.zeros(current_max).reshape(-1,1)))\n",
    "        else:\n",
    "            spaces[i][j] = np.zeros((current_max)**2).reshape(current_max,current_max)\n",
    "\n",
    "def find_neighbor(w,z,y,x):\n",
    "    try:\n",
    "        if (x<0)|(y<0)|(x>=current_max)|(y>=current_max):\n",
    "            return 0\n",
    "        else:\n",
    "            return spaces[w][z][y][x]\n",
    "    except:\n",
    "        return 0        \n",
    "    \n",
    "for i in range(6):\n",
    "    temp_dict = {}\n",
    "    for w in spaces.keys():\n",
    "        temp_dict[w] = {}\n",
    "        for z in spaces[w].keys():\n",
    "            new_item = np.zeros((current_max)**2).reshape(current_max,current_max)\n",
    "            for x,v in enumerate(spaces[w][z]):\n",
    "                for y,v in enumerate(v):\n",
    "                    neighbors = list(itertools.product(range(-1,2), repeat=4))\n",
    "                    neighbors = sum([int(find_neighbor(i[0]+w, i[1]+z,i[2]+y,i[3]+x)) for i in neighbors if ((i[0],i[1],i[2],i[3]) != (0,0,0,0))])\n",
    "                    if spaces[w][z][y][x] == 1 and ((neighbors==2) or (neighbors==3)):\n",
    "                        new_item[y][x] = 1\n",
    "                    elif spaces[w][z][y][x] == 0 and ((neighbors==3)):\n",
    "                        new_item[y][x] = 1\n",
    "                    else:\n",
    "                        new_item[y][x] = 0\n",
    "            temp_dict[w][z] = new_item\n",
    "\n",
    "    spaces = temp_dict\n",
    "    \n",
    "total = 0\n",
    "for i in spaces.keys():\n",
    "    for j in spaces[i].keys():\n",
    "        total += spaces[i][j].sum()\n",
    "total"
   ]
  },
  {
   "cell_type": "markdown",
   "metadata": {},
   "source": [
    "# Day 18, Part 1 & 2"
   ]
  },
  {
   "cell_type": "code",
   "execution_count": 32,
   "metadata": {},
   "outputs": [
    {
     "data": {
      "text/plain": [
       "69490582260"
      ]
     },
     "execution_count": 32,
     "metadata": {},
     "output_type": "execute_result"
    }
   ],
   "source": [
    "def evaluate(exp):\n",
    "    if len(exp)>=3:\n",
    "        return evaluate([str(eval(''.join(exp[:3])))] + exp[3:])\n",
    "    else:\n",
    "        return exp\n",
    "\n",
    "def full_exp(exp):\n",
    "    while True:\n",
    "        start = exp.rfind('(')\n",
    "        end = exp.find(')',start)\n",
    "        if start==-1:\n",
    "            if len(exp.split())>1:\n",
    "                return int(evaluate(exp.split())[0])\n",
    "            else:\n",
    "                return exp\n",
    "            break\n",
    "        else:\n",
    "            exp2 = exp[start+1:end]\n",
    "            exp = exp[:start] + evaluate(exp2.split())[0] + exp[end+1:] \n",
    "\n",
    "sum([full_exp(i) for i in open('data/day18.txt').read().split('\\n')[:-1]])"
   ]
  },
  {
   "cell_type": "code",
   "execution_count": 33,
   "metadata": {},
   "outputs": [
    {
     "data": {
      "text/plain": [
       "362464596624526"
      ]
     },
     "execution_count": 33,
     "metadata": {},
     "output_type": "execute_result"
    }
   ],
   "source": [
    "def evaluate(exp):\n",
    "    if len(exp)==3:\n",
    "        return eval(''.join(exp))\n",
    "    elif len(exp)>3:\n",
    "        try:\n",
    "            plus = exp.index('+')\n",
    "            values =  [str(evaluate(exp[plus-1:plus+2]))]\n",
    "            exp = exp[:plus-1] + values + exp[plus+2:]\n",
    "            return evaluate(exp)\n",
    "        except:\n",
    "            plus = exp.index('*')\n",
    "            values =  [str(evaluate(exp[plus-1:plus+2]))]\n",
    "            exp = exp[:plus-1] + values + exp[plus+2:]\n",
    "            return evaluate(exp)\n",
    "    else:\n",
    "        return exp\n",
    "\n",
    "def full_exp(exp):\n",
    "    while True:\n",
    "        start = exp.rfind('(')\n",
    "        end = exp.find(')',start)\n",
    "        if start==-1:\n",
    "            if len(exp.split())>1:\n",
    "                return int(evaluate(exp.split()))\n",
    "            else:\n",
    "                return exp\n",
    "            break\n",
    "        else:\n",
    "            exp2 = exp[start+1:end]\n",
    "            exp = exp[:start] + str(evaluate(exp2.split())) + exp[end+1:] \n",
    "\n",
    "sum([full_exp(i) for i in open('data/day18.txt').read().split('\\n')[:-1]])"
   ]
  },
  {
   "cell_type": "markdown",
   "metadata": {},
   "source": [
    "# Day 19, Part 1 & 2"
   ]
  },
  {
   "cell_type": "code",
   "execution_count": 37,
   "metadata": {},
   "outputs": [
    {
     "data": {
      "text/plain": [
       "142"
      ]
     },
     "execution_count": 37,
     "metadata": {},
     "output_type": "execute_result"
    }
   ],
   "source": [
    "from itertools import chain, product\n",
    "\n",
    "rules = {i.split(':')[0]:i.split(': ')[1] for i in open('data/day19.txt').read().replace('\"','').split('\\n\\n')[0].split('\\n')}\n",
    "input = open('data/day19.txt').read().replace('\"','').split('\\n\\n')[1].split('\\n')[:-1]\n",
    "rules, input\n",
    "\n",
    "letters = [i for i in rules if rules[i] in (\"a\", \"b\")]\n",
    "\n",
    "for i in rules.keys():\n",
    "    for j in letters:\n",
    "        rules[i] = rules[i].replace(j, rules[j])\n",
    "for i in rules.keys():\n",
    "    if len(set(rules[i].split()) - set(['|']) - set(['a', 'b']))==0:\n",
    "        rules[i] = ''.join(rules[i].split()).split('|')\n",
    "        \n",
    "groups = [i for i in rules if isinstance(rules[i], list)]\n",
    "\n",
    "while True:\n",
    "    for i in rules.keys():\n",
    "        if (i in letters) or isinstance(rules[i], list):\n",
    "            pass # do nothing\n",
    "        else:\n",
    "            if '|' in rules[i]:\n",
    "                or_val = [l.split() for l in rules[i].split(' | ')]\n",
    "                left = [rules[j] if j in groups else [j] for j in or_val[0]]\n",
    "                right = [rules[j] if j in groups else [j] for j in or_val[1]]\n",
    "                if any([k.isdigit() for k in list(chain(*left))]):\n",
    "                    pass #ignore\n",
    "                elif any([k.isdigit() for k in list(chain(*right))]):\n",
    "                    pass # also ignore\n",
    "                else:\n",
    "                    # only when both are good\n",
    "                    rules[i] = list(''.join(k) for k in list(product(*left))) + list(''.join(k) for k in list(product(*right)))\n",
    "                pass\n",
    "            else:\n",
    "                vals = rules[i].split()\n",
    "                vals = [rules[j] if j in groups else [j] for j in vals]\n",
    "                if any([k.isdigit() for k in list(chain(*vals))]):\n",
    "                    pass #ignore\n",
    "                else:\n",
    "                    rules[i] = list(''.join(k) for k in list(product(*vals)))\n",
    "\n",
    "    groups = [i for i in rules if isinstance(rules[i], list)]\n",
    "    \n",
    "    if isinstance(rules['0'], list):\n",
    "        break\n",
    "sum([1 for i in input if i in rules['0']])"
   ]
  },
  {
   "cell_type": "code",
   "execution_count": 38,
   "metadata": {},
   "outputs": [
    {
     "data": {
      "text/plain": [
       "294"
      ]
     },
     "execution_count": 38,
     "metadata": {},
     "output_type": "execute_result"
    }
   ],
   "source": [
    "good_input= []\n",
    "for line in input:\n",
    "    check = []\n",
    "    blah = [line[i:i+8] for i in range(0, len(line), 8)]\n",
    "    for v in blah:\n",
    "        if v in rules['42']:\n",
    "            check.append(42)\n",
    "        elif v in rules['31']:\n",
    "            check.append(31)\n",
    "        else:\n",
    "            check.append(False)\n",
    "    r_check = [i for i in reversed(check)]\n",
    "    if 31 in r_check:\n",
    "        if r_check.index(31) == 0:\n",
    "            if r_check[:r_check.count(31)] == [31]*r_check.count(31):\n",
    "                if r_check.count(31)+1 <= r_check.count(42):\n",
    "                    good_input.append(check)\n",
    "\n",
    "len(good_input)"
   ]
  },
  {
   "cell_type": "markdown",
   "metadata": {},
   "source": [
    "# Day 20, Part 1 & 2"
   ]
  },
  {
   "cell_type": "code",
   "execution_count": 45,
   "metadata": {},
   "outputs": [
    {
     "data": {
      "text/plain": [
       "14986175499719"
      ]
     },
     "execution_count": 45,
     "metadata": {},
     "output_type": "execute_result"
    }
   ],
   "source": [
    "import numpy as np\n",
    "from functools import reduce\n",
    "\n",
    "tiles = {i.split(':')[0].replace('Tile ',''):np.array([j for j in i.split(':')[1].replace('\\n','')]).reshape(10,10) \n",
    "         for i in open('data/day20.txt').read().split('\\n\\n')[:-1]}\n",
    "    \n",
    "def get_sides(tile):\n",
    "    top = tiles[tile][0:1,:].reshape(-1,1)\n",
    "    bottom = tiles[tile][-1:,:].reshape(-1,1)\n",
    "    left = tiles[tile][:,0:1]\n",
    "    right = tiles[tile][:, -1:]\n",
    "    top_rev, bottom_rev, left_rev, right_rev = np.flipud(top), np.flipud(bottom), np.flipud(left), np.flipud(right)\n",
    "    return top, top_rev, bottom, bottom_rev, left, left_rev, right, right_rev\n",
    "\n",
    "def find_match(tile1, tiles):\n",
    "    count_match = 0\n",
    "    sides1 = get_sides(tile1)\n",
    "    for t in tiles:\n",
    "        count_match += sum([1 if np.array_equal(v,w) else 0 for w in get_sides(t) for v in sides1])\n",
    "    return count_match\n",
    "\n",
    "grab_corner = []\n",
    "for i in tiles.keys():\n",
    "    blah = (i, find_match(i, set(tiles.keys())-set([i])))\n",
    "    if blah[1]==4:\n",
    "        grab_corner.append(blah)\n",
    "            \n",
    "reduce(lambda x,y: x*y, [int(i[0]) for i in grab_corner],1)"
   ]
  },
  {
   "cell_type": "code",
   "execution_count": 48,
   "metadata": {},
   "outputs": [
    {
     "data": {
      "text/plain": [
       "2161"
      ]
     },
     "execution_count": 48,
     "metadata": {},
     "output_type": "execute_result"
    }
   ],
   "source": [
    "top_left = grab_max[4][0]\n",
    "orientation = ['top', 'top_rev', 'bottom', 'bottom_rev', 'left', 'left_rev', 'right', 'right_rev']\n",
    "\n",
    "def find_orientation(tile1, tiles):\n",
    "    orientations = []\n",
    "    sides1 = get_sides(tile1)\n",
    "    for t in tiles:\n",
    "        for i, v in enumerate(sides1):\n",
    "            for j, w in enumerate(get_sides(t)):\n",
    "                if np.array_equal(v,w):\n",
    "                    orientations.append([orientation[i], orientation[j], tile1, t])\n",
    "    return orientations\n",
    "\n",
    "final_stack = np.array(tiles[top_left])\n",
    "temp_row = [top_left]\n",
    "def find_row(current_piece, movement):\n",
    "    ort = find_orientation(current_piece, set(tiles.keys())-set([current_piece]))\n",
    "    side = [o for o in ort if o[0]==movement][0]\n",
    "    if movement=='right':\n",
    "        match_movement = 'left'\n",
    "    if movement=='bottom':\n",
    "        match_movement = 'top'\n",
    "    while match_movement not in side[1]:\n",
    "        tiles[side[3]] = np.rot90(tiles[side[3]])\n",
    "        ort = find_orientation(current_piece, [side[3]])\n",
    "        side = [o for o in ort if o[0]==movement][0]\n",
    "    while match_movement+'_rev' in side[1]:\n",
    "        if match_movement in ['right', 'left']: ax = 0\n",
    "        else: ax=1\n",
    "        tiles[side[3]] = np.flip(tiles[side[3]], axis=ax)\n",
    "        ort = find_orientation(current_piece, [side[3]])\n",
    "        side = [o for o in ort if o[0]==movement][0]\n",
    "    return side[3]\n",
    "\n",
    "# stacking the pictures together\n",
    "for i in range(11):\n",
    "    vals = find_row(temp_row[-1], 'right')\n",
    "    final_stack = np.hstack([final_stack, tiles[vals]])\n",
    "    temp_row.append(vals)\n",
    "    \n",
    "for i in range(11):\n",
    "    temp_row = [find_row(temp_row[0], 'bottom')]\n",
    "    temp_array = np.array(tiles[temp_row[0]])\n",
    "    for i in range(11):\n",
    "        vals = find_row(temp_row[-1], 'right')\n",
    "        temp_array = np.hstack([temp_array, tiles[vals]])\n",
    "        temp_row.append(vals)\n",
    "    final_stack = np.vstack([final_stack, temp_array])\n",
    "    \n",
    "# deleting borders\n",
    "delete_arrays = []\n",
    "for i in range(0,119):\n",
    "    if i==0:\n",
    "        delete_arrays.append(i)\n",
    "    if np.array_equal(final_stack[i,:], final_stack[i+1,:]):\n",
    "        delete_arrays.append(i)\n",
    "        delete_arrays.append(i+1)\n",
    "delete_arrays.append(119)\n",
    "\n",
    "for i in reversed(delete_arrays):\n",
    "    final_stack = np.delete(final_stack, obj=i, axis=0)\n",
    "    final_stack = np.delete(final_stack, obj=i, axis=1)     \n",
    "    \n",
    "# monster mask\n",
    "sea_monster = np.array([i for i in '                  # #    ##    ##    ### #  #  #  #  #  #   ']).reshape(3,20)\n",
    "sea_monster[sea_monster == ' '] = 0\n",
    "sea_monster[sea_monster == '#'] = 1\n",
    "sea_monster = np.array(sea_monster).astype(bool)\n",
    "\n",
    "final_stack = np.flip(final_stack, axis=0)\n",
    "\n",
    "monsters = 0\n",
    "for i in range(3, 96):\n",
    "    for j in range(20,96):\n",
    "        monster_here = final_stack[i-3:i,j-20:j][sea_monster]\n",
    "        if len(monster_here[monster_here=='#']) == 15:\n",
    "            monsters +=1\n",
    "            \n",
    "len(final_stack[final_stack == '#']) - (monsters*15)"
   ]
  },
  {
   "cell_type": "markdown",
   "metadata": {},
   "source": [
    "# Day 21, Part 1 & 2"
   ]
  },
  {
   "cell_type": "code",
   "execution_count": 50,
   "metadata": {},
   "outputs": [
    {
     "data": {
      "text/plain": [
       "2324"
      ]
     },
     "execution_count": 50,
     "metadata": {},
     "output_type": "execute_result"
    }
   ],
   "source": [
    "import pandas as pd\n",
    "from functools import reduce \n",
    "\n",
    "df = pd.DataFrame.from_dict({i.split(' (contains ')[0]:[i.split('contains ')[1].replace(')','')] \n",
    "                             for i in open('data/day21.txt').read().split('\\n')[:-1]}, orient='index',).reset_index()\n",
    "df.columns = ['ingredients', 'allergens']\n",
    "full_ingredient_list = reduce(lambda x,y: x+' '+y, df['ingredients']).split()\n",
    "\n",
    "df['allergens'] = df['allergens'].apply(lambda x: [i.strip() for i in x.split(',')])\n",
    "df['ingredients'] = df['ingredients'].apply(lambda x: set(x.split()))\n",
    "df = df.explode('allergens', ignore_index=True)\n",
    "\n",
    "def f_common(series):\n",
    "    return reduce(lambda x, y: x.intersection(y), series)\n",
    "\n",
    "common_df = df.groupby('allergens').agg({'ingredients': f_common})\n",
    "\n",
    "all_ingredients = reduce(lambda x,y: x.union(y), df['ingredients'])\n",
    "common = reduce(lambda x,y: x.union(y), common_df['ingredients'])\n",
    "\n",
    "len([i for i in full_ingredient_list if i in (all_ingredients - common)])"
   ]
  },
  {
   "cell_type": "code",
   "execution_count": 51,
   "metadata": {},
   "outputs": [
    {
     "data": {
      "text/plain": [
       "'bxjvzk,hqgqj,sp,spl,hsksz,qzzzf,fmpgn,tpnnkc'"
      ]
     },
     "execution_count": 51,
     "metadata": {},
     "output_type": "execute_result"
    }
   ],
   "source": [
    "from itertools import chain\n",
    "full_list = set(chain(*[i for i in common_df['ingredients']]))\n",
    "\n",
    "while True:\n",
    "    single_items = common_df[common_df['ingredients'].apply(lambda x:len(x)==1)]['ingredients']\n",
    "    if full_list == set(chain(*[i for i in single_items])):\n",
    "        break\n",
    "    else:\n",
    "        for i in single_items:\n",
    "            common_df['ingredients'] = common_df['ingredients'].apply(lambda x: x-i if x!=i else x)\n",
    "\n",
    "','.join([list(i)[0] for i in common_df.sort_values(by=['allergens'], ascending=True)['ingredients']])"
   ]
  },
  {
   "cell_type": "markdown",
   "metadata": {},
   "source": [
    "# Day 22, Part 1 & 2"
   ]
  },
  {
   "cell_type": "code",
   "execution_count": 52,
   "metadata": {},
   "outputs": [
    {
     "name": "stdout",
     "output_type": "stream",
     "text": [
      "31957\n"
     ]
    }
   ],
   "source": [
    "cards = {i.split(':')[0]:i.split(':')[1].strip().split('\\n') for i in open('data/day22.txt').read().split('\\n\\n')}\n",
    "cards['Player 1'] = [int(i) for i in cards['Player 1']]\n",
    "cards['Player 2'] = [int(i) for i in cards['Player 2']]\n",
    "    \n",
    "while True:\n",
    "    card1, card2 = cards['Player 1'].pop(0), cards['Player 2'].pop(0)\n",
    "    if card1>card2:\n",
    "        cards['Player 1'].extend([card1, card2])\n",
    "    else:\n",
    "        cards['Player 2'].extend([card2, card1])\n",
    "        \n",
    "    if len(cards['Player 1'])==0:\n",
    "        print(sum([i[0]*i[1] for i in zip(list(reversed(cards['Player 2'])), list(range(1,len(cards['Player 2'])+1)))]))\n",
    "        break\n",
    "    if len(cards['Player 2'])==0:\n",
    "        print(sum([i[0]*i[1] for i in zip(list(reversed(cards['Player 1'])), list(range(1,len(cards['Player 1'])+1)))]))\n",
    "        break"
   ]
  },
  {
   "cell_type": "code",
   "execution_count": 53,
   "metadata": {},
   "outputs": [
    {
     "name": "stdout",
     "output_type": "stream",
     "text": [
      "33212\n"
     ]
    }
   ],
   "source": [
    "cards2 = {i.split(':')[0]:i.split(':')[1].strip().split('\\n') for i in open('data/day22.txt').read().split('\\n\\n')}\n",
    "cards2['Player 1'] = [int(i) for i in cards2['Player 1']]\n",
    "cards2['Player 2'] = [int(i) for i in cards2['Player 2']]\n",
    "\n",
    "matches = {}\n",
    "\n",
    "def do_cards(current_round, cards):\n",
    "    matches[current_round] = []\n",
    "\n",
    "    while True:\n",
    "\n",
    "        for i in matches[current_round]:\n",
    "            if (cards['Player 1']==i[0]) and (cards['Player 2']==i[1]):\n",
    "                if current_round==1:\n",
    "                    break\n",
    "                return ('Player 1', cards['Player 1'])\n",
    "        matches[current_round].append((cards['Player 1'].copy(), cards['Player 2'].copy()))\n",
    "        # draw cards\n",
    "        card1, card2 = cards['Player 1'].pop(0), cards['Player 2'].pop(0)\n",
    "\n",
    "        if (card1<=len(cards['Player 1'])) and (card2<=len(cards['Player 2'])):\n",
    "            temp_cards = {}\n",
    "            temp_cards['Player 1'] = cards['Player 1'][:card1].copy()\n",
    "            temp_cards['Player 2'] = cards['Player 2'][:card2].copy()\n",
    "            winner = do_cards(max(matches.keys())+1,temp_cards)\n",
    "            if winner[0]=='Player 1':\n",
    "                cards['Player 1'].extend([card1, card2])\n",
    "            else:\n",
    "                cards['Player 2'].extend([card2, card1])\n",
    "        else:\n",
    "            if card1>card2:\n",
    "                cards['Player 1'].extend([card1, card2])\n",
    "            else:\n",
    "                cards['Player 2'].extend([card2, card1])\n",
    "\n",
    "            if (len(cards['Player 1'])==0):\n",
    "                return ('Player 2', cards['Player 2'])\n",
    "            elif (len(cards['Player 2'])==0):\n",
    "                return ('Player 1', cards['Player 1'])\n",
    "            \n",
    "val = do_cards(1, cards2)\n",
    "print(sum([i[0]*i[1] for i in zip(list(reversed(val[1])), list(range(1,len(val[1])+1)))]))"
   ]
  },
  {
   "cell_type": "markdown",
   "metadata": {},
   "source": [
    "# Day 23, Part 1 & 2"
   ]
  },
  {
   "cell_type": "code",
   "execution_count": 54,
   "metadata": {},
   "outputs": [
    {
     "data": {
      "text/plain": [
       "'45983627'"
      ]
     },
     "execution_count": 54,
     "metadata": {},
     "output_type": "execute_result"
    }
   ],
   "source": [
    "cups = [int(i) for i in '186524973']\n",
    "\n",
    "def run_this(flag=0):\n",
    "    c1, c2, c3 = cups.pop(1), cups.pop(1), cups.pop(1)\n",
    "    def get_destination(cups):\n",
    "        destination = cups[0]\n",
    "        while True:\n",
    "            destination -= 1\n",
    "            if destination in cups:\n",
    "                break\n",
    "            elif destination < min(cups):\n",
    "                destination = max(cups)\n",
    "                break\n",
    "        return destination\n",
    "    if get_destination(cups)==100:\n",
    "        cups.extend([c1, c2, c3])\n",
    "    else:\n",
    "        cups.insert(cups.index(get_destination(cups))+1, c1)\n",
    "        cups.insert(cups.index(c1)+1, c2)\n",
    "        cups.insert(cups.index(c2)+1, c3)\n",
    "    cups.extend([cups.pop(0)])\n",
    "\n",
    "for i in range(100):\n",
    "    run_this(i)\n",
    "    \n",
    "''.join([str(i) for i in cups[cups.index(1)+1:]+cups[:cups.index(1)]])"
   ]
  },
  {
   "cell_type": "code",
   "execution_count": 55,
   "metadata": {},
   "outputs": [
    {
     "data": {
      "text/plain": [
       "111080192688"
      ]
     },
     "execution_count": 55,
     "metadata": {},
     "output_type": "execute_result"
    }
   ],
   "source": [
    "cups_list = cups = [int(i) for i in '186524973'] + list(range(len('186524973')+1,1000001))\n",
    "last_num = max(cups_list)\n",
    "\n",
    "cups = {}\n",
    "for i,val in enumerate(cups_list):\n",
    "    cups[val] = [None, None]\n",
    "    if i==0:\n",
    "        cups[val][0] = cups_list[-1]\n",
    "        cups[val][1] = cups_list[1]\n",
    "    elif i==len(cups_list)-1:\n",
    "        cups[val][0] = cups_list[i-1]\n",
    "        cups[val][1] = cups_list[0]\n",
    "    else:\n",
    "        cups[val][0] = cups_list[i-1]\n",
    "        cups[val][1] = cups_list[i+1]\n",
    "\n",
    "pointer = cups_list[0]\n",
    "\n",
    "def run_this():\n",
    "    global pointer\n",
    "    c1 = cups[pointer][1]\n",
    "    c2 = cups[c1][1]\n",
    "    c3 = cups[c2][1]\n",
    "    \n",
    "    # let's remove them out of the list\n",
    "    cups[pointer][1] = cups[c3][1]\n",
    "    cups[cups[pointer][1]][0] = pointer\n",
    "    \n",
    "    def get_destination(cups):\n",
    "        destination = pointer\n",
    "        while True:\n",
    "            destination -= 1\n",
    "            if destination not in cups.keys():\n",
    "                # wraps around to max\n",
    "                destination = last_num\n",
    "                while True:\n",
    "                    if destination in [c1, c2, c3]:\n",
    "                        destination -=1\n",
    "                    else:\n",
    "                        return destination\n",
    "            elif destination in set([c1, c2, c3]):\n",
    "                pass\n",
    "                # do nothing\n",
    "            else:\n",
    "                break\n",
    "        return destination\n",
    "\n",
    "    # move the pointers\n",
    "    des = get_destination(cups)\n",
    "    cups[c3][1] = cups[des][1]\n",
    "    cups[des][1] = c1\n",
    "    cups[c1][0] = des\n",
    "    pointer = cups[pointer][1]\n",
    "    \n",
    "for i in range(10000000):\n",
    "    run_this()\n",
    "\n",
    "final_numbers = []\n",
    "for i in range(1, 4):\n",
    "    if i == 1:\n",
    "        next = cups[i][1]\n",
    "    else:\n",
    "        final_numbers.append(next)\n",
    "        next = cups[next][1]\n",
    "\n",
    "final_numbers[0]*final_numbers[1]"
   ]
  },
  {
   "cell_type": "markdown",
   "metadata": {},
   "source": [
    "# Day 24, Part 1 & 2"
   ]
  },
  {
   "cell_type": "code",
   "execution_count": 62,
   "metadata": {},
   "outputs": [
    {
     "data": {
      "text/plain": [
       "377"
      ]
     },
     "execution_count": 62,
     "metadata": {},
     "output_type": "execute_result"
    }
   ],
   "source": [
    "flips = open('data/day24.txt').read().split('\\n')[:-1]\n",
    "\n",
    "def get_directions(i):\n",
    "    d = []\n",
    "    j = 0\n",
    "    while True:\n",
    "        if j==len(i):\n",
    "            break\n",
    "        l = i[j]\n",
    "        if l in ['s', 'n']:\n",
    "            l = i[j:j+2]\n",
    "            d.append(l)\n",
    "            j+=2\n",
    "        else:\n",
    "            d.append(l)\n",
    "            j+=1\n",
    "    return d\n",
    "    \n",
    "def flip_tiles(movements):\n",
    "    clean = movements.copy()\n",
    "    while True:\n",
    "        if 'e' in clean and 'w' in clean:\n",
    "            clean.pop(clean.index('e'))\n",
    "            clean.pop(clean.index('w'))\n",
    "        elif 'nw' in clean and 'se' in clean:\n",
    "            clean.pop(clean.index('nw'))\n",
    "            clean.pop(clean.index('se'))\n",
    "        elif 'ne' in clean and 'sw' in clean:\n",
    "            clean.pop(clean.index('ne'))\n",
    "            clean.pop(clean.index('sw'))\n",
    "        elif 'nw' in clean and 'se' in clean:\n",
    "            clean.pop(clean.index('nw'))\n",
    "            clean.pop(clean.index('se'))\n",
    "        elif 'se' in clean and 'w' in clean:\n",
    "            clean.pop(clean.index('se'))\n",
    "            clean.pop(clean.index('w'))\n",
    "            clean.append('sw')\n",
    "        elif 'e' in clean:\n",
    "            clean.pop(clean.index('e'))\n",
    "            clean.append('se')\n",
    "            clean.append('ne')\n",
    "        elif 'w' in clean:\n",
    "            clean.pop(clean.index('w'))\n",
    "            clean.append('sw')\n",
    "            clean.append('nw')\n",
    "        else:\n",
    "            return sorted(clean)\n",
    "\n",
    "movements = []\n",
    "\n",
    "for i in flips:\n",
    "    d = flip_tiles(get_directions(i))\n",
    "    movements.append(d)\n",
    "\n",
    "dupes = []\n",
    "black_switch = 0\n",
    "black_list = []\n",
    "for i in movements:\n",
    "    if i in dupes:\n",
    "        pass\n",
    "    else:\n",
    "        occurences = movements.count(i)\n",
    "        if occurences%2==1:\n",
    "            black_switch+=1\n",
    "            black_list.append(i)\n",
    "            dupes.append(i)\n",
    "        else:\n",
    "            dupes.append(i)\n",
    "        \n",
    "black_switch"
   ]
  },
  {
   "cell_type": "code",
   "execution_count": 63,
   "metadata": {},
   "outputs": [
    {
     "name": "stdout",
     "output_type": "stream",
     "text": [
      "4231\n"
     ]
    }
   ],
   "source": [
    "new_black_list = sorted(black_list, key=lambda x:len(x))\n",
    "neighbors = ['e', 'se', 'sw', 'w', 'nw', 'ne']\n",
    "\n",
    "def is_black(grouping, black_list):\n",
    "    if grouping in black_list:\n",
    "        return True\n",
    "    else:\n",
    "        return False\n",
    "    \n",
    "def black_flip(black_list):\n",
    "    new_black_flip = []\n",
    "    white_list = []\n",
    "    for i in black_list:\n",
    "        n = [flip_tiles(i+[j]) for j in neighbors]\n",
    "        for k in n:\n",
    "            if is_black(k, black_list): pass\n",
    "            else: \n",
    "                if k in white_list: pass\n",
    "                else: white_list.append(k)\n",
    "        black_adj_count = sum([1 for j in n if is_black(j, black_list)])\n",
    "        if (black_adj_count in [1,2]):\n",
    "            new_black_flip.append(i)\n",
    "    return new_black_flip, sorted(white_list, key=lambda x: len(x))\n",
    "\n",
    "def white_flip(white_list, black_flip, old_black_list):\n",
    "    new_black_flip = black_flip\n",
    "    for i in white_list:\n",
    "        n = [flip_tiles(i+[j]) for j in neighbors]\n",
    "        black_adj_count = sum([1 for j in n if is_black(j, old_black_list)])\n",
    "        if (black_adj_count==2):\n",
    "            if i in black_flip: pass # ignore whatever is already there\n",
    "            else:\n",
    "                new_black_flip.append(i)\n",
    "    return sorted(new_black_flip, key=lambda x:len(x))\n",
    "\n",
    "blist, wl = black_flip(new_black_list)\n",
    "blah = white_flip(wl, blist, new_black_list)\n",
    "\n",
    "for i in range(2, 101):\n",
    "    blist, wl = black_flip(blah)\n",
    "    blah = white_flip(wl, blist, blah)\n",
    "    if i == 100:\n",
    "        print(len(blah))"
   ]
  },
  {
   "cell_type": "markdown",
   "metadata": {},
   "source": [
    "# Day 25, Part 1"
   ]
  },
  {
   "cell_type": "code",
   "execution_count": 67,
   "metadata": {},
   "outputs": [
    {
     "data": {
      "text/plain": [
       "16457981"
      ]
     },
     "execution_count": 67,
     "metadata": {},
     "output_type": "execute_result"
    }
   ],
   "source": [
    "from sympy import nextprime\n",
    "\n",
    "card_key, door_key = [int(i) for i in open('data/day25.txt').read().split('\\n')[:-1]]\n",
    "modd = 20201227\n",
    "\n",
    "currentprime=5\n",
    "found=False\n",
    "\n",
    "while currentprime<20201227:\n",
    "    sub = nextprime(currentprime)\n",
    "    currentprime=sub\n",
    "    loop1, loop2 = -1,-1\n",
    "    for i in range(1000000000):\n",
    "        val = pow(sub,i,modd)\n",
    "        if val == card_key:\n",
    "            loop1 = i\n",
    "        elif val == door_key:\n",
    "            loop2 = i\n",
    "        if loop1 >0 and loop2 >0:\n",
    "            key1, key2 = pow(pow(sub,loop2,modd), loop1, modd),  pow(pow(sub,loop1,modd), loop2, modd)\n",
    "            if key1 == key2:\n",
    "                found=True\n",
    "            break\n",
    "    if found: break\n",
    "        \n",
    "key1 "
   ]
  },
  {
   "cell_type": "code",
   "execution_count": null,
   "metadata": {},
   "outputs": [],
   "source": []
  }
 ],
 "metadata": {
  "kernelspec": {
   "display_name": "Python 3",
   "language": "python",
   "name": "python3"
  },
  "language_info": {
   "codemirror_mode": {
    "name": "ipython",
    "version": 3
   },
   "file_extension": ".py",
   "mimetype": "text/x-python",
   "name": "python",
   "nbconvert_exporter": "python",
   "pygments_lexer": "ipython3",
   "version": "3.8.5"
  }
 },
 "nbformat": 4,
 "nbformat_minor": 4
}
